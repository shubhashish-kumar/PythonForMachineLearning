{
 "cells": [
  {
   "cell_type": "markdown",
   "id": "40cb053a",
   "metadata": {},
   "source": [
    "## Exploratory Data Analytics / Root Cause Analysis\n",
    "1. ### Domain Exploration\n",
    "    - Understanding the business process, understand the data sources\n",
    "    - Understand common beliefs within the business\n",
    "\n",
    "2. ### Data collection and Data exploration\n",
    "    - Colllect data from multiple sources\n",
    "    - form a dataset, perform generic exploration to understand data quality\n",
    "\n",
    "3. ### Data cleaning\n",
    "    - Handle duplicate entries\n",
    "    - Handle unwanted cols\n",
    "    - Handling missing values\n",
    "    - Handling outliers\n",
    "\n",
    "4. ### Feature Engineering\n",
    "    - Feature Extraction\n",
    "    - Feature Selection\n",
    "        - **Data VIsualization**\n",
    "            - Univariate analysis\n",
    "            - Bivariate analysis\n",
    "            - Multivarite analysis\n",
    "\n",
    "        - **Statistical Research**\n",
    "            - Correlation Analysis\n",
    "            - ANOVA\n",
    "            - Chi Square\n",
    "5. ### Preprocessing features\n",
    "    - Encoding\n",
    "    - Normalization\n",
    "    - train split test\n",
    "6. ### Apply Machine Learning\n",
    "    - choose the appropriate algorithm, develop a predictive model\n",
    "7. ### Performance Analysis\n",
    "8. ### Optimization and Tuning\n",
    "9. ### Deploy the model to production.\n",
    "10. ### Monitor the performance in production."
   ]
  },
  {
   "cell_type": "markdown",
   "id": "8bfadd2f",
   "metadata": {},
   "source": [
    "## 2. Data collection and Data exploration"
   ]
  },
  {
   "cell_type": "code",
   "execution_count": 1,
   "id": "f3e62efb",
   "metadata": {},
   "outputs": [],
   "source": [
    "import pandas as pd\n",
    "import matplotlib.pyplot as plt\n",
    "import numpy as np\n",
    "import plotly.express as px\n",
    "import plotly.graph_objects as go"
   ]
  },
  {
   "cell_type": "code",
   "execution_count": 2,
   "id": "b6f307b9",
   "metadata": {},
   "outputs": [
    {
     "data": {
      "text/plain": [
       "(10000, 14)"
      ]
     },
     "execution_count": 2,
     "metadata": {},
     "output_type": "execute_result"
    }
   ],
   "source": [
    "df = pd.read_csv(\"resources/datasets-1/Bank_churn_modelling.csv\")\n",
    "df.shape"
   ]
  },
  {
   "cell_type": "code",
   "execution_count": 3,
   "id": "14c91d39",
   "metadata": {},
   "outputs": [
    {
     "data": {
      "text/html": [
       "<div>\n",
       "<style scoped>\n",
       "    .dataframe tbody tr th:only-of-type {\n",
       "        vertical-align: middle;\n",
       "    }\n",
       "\n",
       "    .dataframe tbody tr th {\n",
       "        vertical-align: top;\n",
       "    }\n",
       "\n",
       "    .dataframe thead th {\n",
       "        text-align: right;\n",
       "    }\n",
       "</style>\n",
       "<table border=\"1\" class=\"dataframe\">\n",
       "  <thead>\n",
       "    <tr style=\"text-align: right;\">\n",
       "      <th></th>\n",
       "      <th>RowNumber</th>\n",
       "      <th>CustomerId</th>\n",
       "      <th>Surname</th>\n",
       "      <th>CreditScore</th>\n",
       "      <th>Geography</th>\n",
       "      <th>Gender</th>\n",
       "      <th>Age</th>\n",
       "      <th>Tenure</th>\n",
       "      <th>Balance</th>\n",
       "      <th>NumOfProducts</th>\n",
       "      <th>HasCrCard</th>\n",
       "      <th>IsActiveMember</th>\n",
       "      <th>EstimatedSalary</th>\n",
       "      <th>Exited</th>\n",
       "    </tr>\n",
       "  </thead>\n",
       "  <tbody>\n",
       "    <tr>\n",
       "      <th>0</th>\n",
       "      <td>1</td>\n",
       "      <td>15634602</td>\n",
       "      <td>Hargrave</td>\n",
       "      <td>619</td>\n",
       "      <td>France</td>\n",
       "      <td>Female</td>\n",
       "      <td>42</td>\n",
       "      <td>2.0</td>\n",
       "      <td>0.00</td>\n",
       "      <td>1</td>\n",
       "      <td>1</td>\n",
       "      <td>1</td>\n",
       "      <td>101348.88</td>\n",
       "      <td>1</td>\n",
       "    </tr>\n",
       "    <tr>\n",
       "      <th>1</th>\n",
       "      <td>2</td>\n",
       "      <td>15647311</td>\n",
       "      <td>Hill</td>\n",
       "      <td>608</td>\n",
       "      <td>Spain</td>\n",
       "      <td>Female</td>\n",
       "      <td>41</td>\n",
       "      <td>1.0</td>\n",
       "      <td>83807.86</td>\n",
       "      <td>1</td>\n",
       "      <td>0</td>\n",
       "      <td>1</td>\n",
       "      <td>112542.58</td>\n",
       "      <td>0</td>\n",
       "    </tr>\n",
       "    <tr>\n",
       "      <th>2</th>\n",
       "      <td>3</td>\n",
       "      <td>15619304</td>\n",
       "      <td>Onio</td>\n",
       "      <td>502</td>\n",
       "      <td>France</td>\n",
       "      <td>Female</td>\n",
       "      <td>42</td>\n",
       "      <td>8.0</td>\n",
       "      <td>159660.80</td>\n",
       "      <td>3</td>\n",
       "      <td>1</td>\n",
       "      <td>0</td>\n",
       "      <td>113931.57</td>\n",
       "      <td>1</td>\n",
       "    </tr>\n",
       "    <tr>\n",
       "      <th>3</th>\n",
       "      <td>4</td>\n",
       "      <td>15701354</td>\n",
       "      <td>Boni</td>\n",
       "      <td>699</td>\n",
       "      <td>France</td>\n",
       "      <td>Female</td>\n",
       "      <td>39</td>\n",
       "      <td>1.0</td>\n",
       "      <td>0.00</td>\n",
       "      <td>2</td>\n",
       "      <td>0</td>\n",
       "      <td>0</td>\n",
       "      <td>93826.63</td>\n",
       "      <td>0</td>\n",
       "    </tr>\n",
       "    <tr>\n",
       "      <th>4</th>\n",
       "      <td>5</td>\n",
       "      <td>15737888</td>\n",
       "      <td>Mitchell</td>\n",
       "      <td>850</td>\n",
       "      <td>Spain</td>\n",
       "      <td>Female</td>\n",
       "      <td>43</td>\n",
       "      <td>2.0</td>\n",
       "      <td>125510.82</td>\n",
       "      <td>1</td>\n",
       "      <td>1</td>\n",
       "      <td>1</td>\n",
       "      <td>79084.10</td>\n",
       "      <td>0</td>\n",
       "    </tr>\n",
       "  </tbody>\n",
       "</table>\n",
       "</div>"
      ],
      "text/plain": [
       "   RowNumber  CustomerId   Surname  CreditScore Geography  Gender  Age  \\\n",
       "0          1    15634602  Hargrave          619    France  Female   42   \n",
       "1          2    15647311      Hill          608     Spain  Female   41   \n",
       "2          3    15619304      Onio          502    France  Female   42   \n",
       "3          4    15701354      Boni          699    France  Female   39   \n",
       "4          5    15737888  Mitchell          850     Spain  Female   43   \n",
       "\n",
       "   Tenure    Balance  NumOfProducts  HasCrCard  IsActiveMember  \\\n",
       "0     2.0       0.00              1          1               1   \n",
       "1     1.0   83807.86              1          0               1   \n",
       "2     8.0  159660.80              3          1               0   \n",
       "3     1.0       0.00              2          0               0   \n",
       "4     2.0  125510.82              1          1               1   \n",
       "\n",
       "   EstimatedSalary  Exited  \n",
       "0        101348.88       1  \n",
       "1        112542.58       0  \n",
       "2        113931.57       1  \n",
       "3         93826.63       0  \n",
       "4         79084.10       0  "
      ]
     },
     "execution_count": 3,
     "metadata": {},
     "output_type": "execute_result"
    }
   ],
   "source": [
    "df.head()"
   ]
  },
  {
   "cell_type": "code",
   "execution_count": 4,
   "id": "430fbf1d",
   "metadata": {},
   "outputs": [
    {
     "name": "stdout",
     "output_type": "stream",
     "text": [
      "<class 'pandas.core.frame.DataFrame'>\n",
      "RangeIndex: 10000 entries, 0 to 9999\n",
      "Data columns (total 14 columns):\n",
      " #   Column           Non-Null Count  Dtype  \n",
      "---  ------           --------------  -----  \n",
      " 0   RowNumber        10000 non-null  int64  \n",
      " 1   CustomerId       10000 non-null  int64  \n",
      " 2   Surname          10000 non-null  object \n",
      " 3   CreditScore      10000 non-null  int64  \n",
      " 4   Geography        10000 non-null  object \n",
      " 5   Gender           10000 non-null  object \n",
      " 6   Age              10000 non-null  int64  \n",
      " 7   Tenure           9985 non-null   float64\n",
      " 8   Balance          10000 non-null  float64\n",
      " 9   NumOfProducts    10000 non-null  int64  \n",
      " 10  HasCrCard        10000 non-null  int64  \n",
      " 11  IsActiveMember   10000 non-null  int64  \n",
      " 12  EstimatedSalary  9990 non-null   float64\n",
      " 13  Exited           10000 non-null  int64  \n",
      "dtypes: float64(3), int64(8), object(3)\n",
      "memory usage: 1.1+ MB\n"
     ]
    }
   ],
   "source": [
    "df.info()"
   ]
  },
  {
   "cell_type": "code",
   "execution_count": 5,
   "id": "58e10e83",
   "metadata": {},
   "outputs": [
    {
     "name": "stdout",
     "output_type": "stream",
     "text": [
      "['France' 'Spain' 'Germany']\n",
      "['Female' 'Male']\n"
     ]
    }
   ],
   "source": [
    "print(df.Geography.unique())\n",
    "print(df.Gender.unique())"
   ]
  },
  {
   "cell_type": "code",
   "execution_count": 6,
   "id": "52b72f38",
   "metadata": {},
   "outputs": [
    {
     "data": {
      "text/html": [
       "<div>\n",
       "<style scoped>\n",
       "    .dataframe tbody tr th:only-of-type {\n",
       "        vertical-align: middle;\n",
       "    }\n",
       "\n",
       "    .dataframe tbody tr th {\n",
       "        vertical-align: top;\n",
       "    }\n",
       "\n",
       "    .dataframe thead th {\n",
       "        text-align: right;\n",
       "    }\n",
       "</style>\n",
       "<table border=\"1\" class=\"dataframe\">\n",
       "  <thead>\n",
       "    <tr style=\"text-align: right;\">\n",
       "      <th></th>\n",
       "      <th>RowNumber</th>\n",
       "      <th>CustomerId</th>\n",
       "      <th>CreditScore</th>\n",
       "      <th>Age</th>\n",
       "      <th>Tenure</th>\n",
       "      <th>Balance</th>\n",
       "      <th>NumOfProducts</th>\n",
       "      <th>HasCrCard</th>\n",
       "      <th>IsActiveMember</th>\n",
       "      <th>EstimatedSalary</th>\n",
       "      <th>Exited</th>\n",
       "    </tr>\n",
       "  </thead>\n",
       "  <tbody>\n",
       "    <tr>\n",
       "      <th>count</th>\n",
       "      <td>10000.00000</td>\n",
       "      <td>1.000000e+04</td>\n",
       "      <td>10000.000000</td>\n",
       "      <td>10000.000000</td>\n",
       "      <td>9985.000000</td>\n",
       "      <td>10000.000000</td>\n",
       "      <td>10000.000000</td>\n",
       "      <td>10000.00000</td>\n",
       "      <td>10000.000000</td>\n",
       "      <td>9990.000000</td>\n",
       "      <td>10000.000000</td>\n",
       "    </tr>\n",
       "    <tr>\n",
       "      <th>mean</th>\n",
       "      <td>5000.50000</td>\n",
       "      <td>1.569094e+07</td>\n",
       "      <td>650.528800</td>\n",
       "      <td>38.921800</td>\n",
       "      <td>5.013721</td>\n",
       "      <td>76485.889288</td>\n",
       "      <td>1.530200</td>\n",
       "      <td>0.70550</td>\n",
       "      <td>0.515100</td>\n",
       "      <td>100127.441333</td>\n",
       "      <td>0.203700</td>\n",
       "    </tr>\n",
       "    <tr>\n",
       "      <th>std</th>\n",
       "      <td>2886.89568</td>\n",
       "      <td>7.193619e+04</td>\n",
       "      <td>96.653299</td>\n",
       "      <td>10.487806</td>\n",
       "      <td>2.892213</td>\n",
       "      <td>62397.405202</td>\n",
       "      <td>0.581654</td>\n",
       "      <td>0.45584</td>\n",
       "      <td>0.499797</td>\n",
       "      <td>57497.228065</td>\n",
       "      <td>0.402769</td>\n",
       "    </tr>\n",
       "    <tr>\n",
       "      <th>min</th>\n",
       "      <td>1.00000</td>\n",
       "      <td>1.556570e+07</td>\n",
       "      <td>350.000000</td>\n",
       "      <td>18.000000</td>\n",
       "      <td>0.000000</td>\n",
       "      <td>0.000000</td>\n",
       "      <td>1.000000</td>\n",
       "      <td>0.00000</td>\n",
       "      <td>0.000000</td>\n",
       "      <td>11.580000</td>\n",
       "      <td>0.000000</td>\n",
       "    </tr>\n",
       "    <tr>\n",
       "      <th>25%</th>\n",
       "      <td>2500.75000</td>\n",
       "      <td>1.562853e+07</td>\n",
       "      <td>584.000000</td>\n",
       "      <td>32.000000</td>\n",
       "      <td>3.000000</td>\n",
       "      <td>0.000000</td>\n",
       "      <td>1.000000</td>\n",
       "      <td>0.00000</td>\n",
       "      <td>0.000000</td>\n",
       "      <td>51112.885000</td>\n",
       "      <td>0.000000</td>\n",
       "    </tr>\n",
       "    <tr>\n",
       "      <th>50%</th>\n",
       "      <td>5000.50000</td>\n",
       "      <td>1.569074e+07</td>\n",
       "      <td>652.000000</td>\n",
       "      <td>37.000000</td>\n",
       "      <td>5.000000</td>\n",
       "      <td>97198.540000</td>\n",
       "      <td>1.000000</td>\n",
       "      <td>1.00000</td>\n",
       "      <td>1.000000</td>\n",
       "      <td>100238.110000</td>\n",
       "      <td>0.000000</td>\n",
       "    </tr>\n",
       "    <tr>\n",
       "      <th>75%</th>\n",
       "      <td>7500.25000</td>\n",
       "      <td>1.575323e+07</td>\n",
       "      <td>718.000000</td>\n",
       "      <td>44.000000</td>\n",
       "      <td>7.000000</td>\n",
       "      <td>127644.240000</td>\n",
       "      <td>2.000000</td>\n",
       "      <td>1.00000</td>\n",
       "      <td>1.000000</td>\n",
       "      <td>149400.922500</td>\n",
       "      <td>0.000000</td>\n",
       "    </tr>\n",
       "    <tr>\n",
       "      <th>max</th>\n",
       "      <td>10000.00000</td>\n",
       "      <td>1.581569e+07</td>\n",
       "      <td>850.000000</td>\n",
       "      <td>92.000000</td>\n",
       "      <td>10.000000</td>\n",
       "      <td>250898.090000</td>\n",
       "      <td>4.000000</td>\n",
       "      <td>1.00000</td>\n",
       "      <td>1.000000</td>\n",
       "      <td>199992.480000</td>\n",
       "      <td>1.000000</td>\n",
       "    </tr>\n",
       "  </tbody>\n",
       "</table>\n",
       "</div>"
      ],
      "text/plain": [
       "         RowNumber    CustomerId   CreditScore           Age       Tenure  \\\n",
       "count  10000.00000  1.000000e+04  10000.000000  10000.000000  9985.000000   \n",
       "mean    5000.50000  1.569094e+07    650.528800     38.921800     5.013721   \n",
       "std     2886.89568  7.193619e+04     96.653299     10.487806     2.892213   \n",
       "min        1.00000  1.556570e+07    350.000000     18.000000     0.000000   \n",
       "25%     2500.75000  1.562853e+07    584.000000     32.000000     3.000000   \n",
       "50%     5000.50000  1.569074e+07    652.000000     37.000000     5.000000   \n",
       "75%     7500.25000  1.575323e+07    718.000000     44.000000     7.000000   \n",
       "max    10000.00000  1.581569e+07    850.000000     92.000000    10.000000   \n",
       "\n",
       "             Balance  NumOfProducts    HasCrCard  IsActiveMember  \\\n",
       "count   10000.000000   10000.000000  10000.00000    10000.000000   \n",
       "mean    76485.889288       1.530200      0.70550        0.515100   \n",
       "std     62397.405202       0.581654      0.45584        0.499797   \n",
       "min         0.000000       1.000000      0.00000        0.000000   \n",
       "25%         0.000000       1.000000      0.00000        0.000000   \n",
       "50%     97198.540000       1.000000      1.00000        1.000000   \n",
       "75%    127644.240000       2.000000      1.00000        1.000000   \n",
       "max    250898.090000       4.000000      1.00000        1.000000   \n",
       "\n",
       "       EstimatedSalary        Exited  \n",
       "count      9990.000000  10000.000000  \n",
       "mean     100127.441333      0.203700  \n",
       "std       57497.228065      0.402769  \n",
       "min          11.580000      0.000000  \n",
       "25%       51112.885000      0.000000  \n",
       "50%      100238.110000      0.000000  \n",
       "75%      149400.922500      0.000000  \n",
       "max      199992.480000      1.000000  "
      ]
     },
     "execution_count": 6,
     "metadata": {},
     "output_type": "execute_result"
    }
   ],
   "source": [
    "df.describe()"
   ]
  },
  {
   "cell_type": "markdown",
   "id": "b2a5b109",
   "metadata": {},
   "source": [
    "**Observations**\n",
    "   - RowNumber, CustomerId, Surname are unwanted columns\n",
    "   - Bank is operational from last 10 years\n",
    "   - 25% of the customers have 0 balance in their account\n",
    "   - almost half of the customesr in the bank are not active members"
   ]
  },
  {
   "cell_type": "markdown",
   "id": "0ac40d49",
   "metadata": {},
   "source": [
    "## 3. Data cleaning"
   ]
  },
  {
   "cell_type": "code",
   "execution_count": 7,
   "id": "dc846436",
   "metadata": {},
   "outputs": [
    {
     "data": {
      "text/plain": [
       "0"
      ]
     },
     "execution_count": 7,
     "metadata": {},
     "output_type": "execute_result"
    }
   ],
   "source": [
    "# Check for duplicates\n",
    "df.duplicated().sum()"
   ]
  },
  {
   "cell_type": "code",
   "execution_count": 8,
   "id": "2ed368d9",
   "metadata": {},
   "outputs": [],
   "source": [
    "# drop unwanted columns - rownumber, customerid, surname\n",
    "df.drop(columns=['RowNumber','CustomerId', 'Surname'], inplace=True)"
   ]
  },
  {
   "cell_type": "code",
   "execution_count": 9,
   "id": "d5c1eb90",
   "metadata": {},
   "outputs": [
    {
     "data": {
      "text/plain": [
       "CreditScore         0\n",
       "Geography           0\n",
       "Gender              0\n",
       "Age                 0\n",
       "Tenure             15\n",
       "Balance             0\n",
       "NumOfProducts       0\n",
       "HasCrCard           0\n",
       "IsActiveMember      0\n",
       "EstimatedSalary    10\n",
       "Exited              0\n",
       "dtype: int64"
      ]
     },
     "execution_count": 9,
     "metadata": {},
     "output_type": "execute_result"
    }
   ],
   "source": [
    "# Check for missing values\n",
    "df.isnull().sum()"
   ]
  },
  {
   "cell_type": "code",
   "execution_count": 10,
   "id": "02d0bf84",
   "metadata": {},
   "outputs": [
    {
     "data": {
      "text/plain": [
       "CreditScore       -0.071607\n",
       "Age                1.011320\n",
       "Tenure             0.010333\n",
       "Balance           -0.141109\n",
       "NumOfProducts      0.745568\n",
       "HasCrCard         -0.901812\n",
       "IsActiveMember    -0.060437\n",
       "EstimatedSalary    0.001322\n",
       "Exited             1.471611\n",
       "dtype: float64"
      ]
     },
     "execution_count": 10,
     "metadata": {},
     "output_type": "execute_result"
    }
   ],
   "source": [
    "df.skew()"
   ]
  },
  {
   "cell_type": "code",
   "execution_count": 11,
   "id": "b20fc938",
   "metadata": {},
   "outputs": [
    {
     "data": {
      "text/plain": [
       "CreditScore        0\n",
       "Geography          0\n",
       "Gender             0\n",
       "Age                0\n",
       "Tenure             0\n",
       "Balance            0\n",
       "NumOfProducts      0\n",
       "HasCrCard          0\n",
       "IsActiveMember     0\n",
       "EstimatedSalary    0\n",
       "Exited             0\n",
       "dtype: int64"
      ]
     },
     "execution_count": 11,
     "metadata": {},
     "output_type": "execute_result"
    }
   ],
   "source": [
    "df.fillna(df.mean(), inplace=True)\n",
    "# Check for missing values\n",
    "df.isnull().sum()"
   ]
  },
  {
   "cell_type": "code",
   "execution_count": 12,
   "id": "29310ed4",
   "metadata": {},
   "outputs": [
    {
     "data": {
      "text/plain": [
       "CreditScore       -0.071607\n",
       "Age                1.011320\n",
       "Tenure             0.010341\n",
       "Balance           -0.141109\n",
       "NumOfProducts      0.745568\n",
       "HasCrCard         -0.901812\n",
       "IsActiveMember    -0.060437\n",
       "EstimatedSalary    0.001323\n",
       "Exited             1.471611\n",
       "dtype: float64"
      ]
     },
     "execution_count": 12,
     "metadata": {},
     "output_type": "execute_result"
    }
   ],
   "source": [
    "# Check for outliers\n",
    "df.skew()"
   ]
  },
  {
   "cell_type": "markdown",
   "id": "c538c3fb",
   "metadata": {},
   "source": [
    "## 4. Feature Engineering\n",
    "### Univariate Analysis\n",
    "    - analysing one variable at a time\n",
    "    - Numeric - continuous frequency distribution - histogram\n",
    "    - Categorical - discrete frequency distribution - barplot"
   ]
  },
  {
   "cell_type": "code",
   "execution_count": 13,
   "id": "852b58ac",
   "metadata": {},
   "outputs": [
    {
     "data": {
      "text/plain": [
       "Index(['CreditScore', 'Geography', 'Gender', 'Age', 'Tenure', 'Balance',\n",
       "       'NumOfProducts', 'HasCrCard', 'IsActiveMember', 'EstimatedSalary',\n",
       "       'Exited'],\n",
       "      dtype='object')"
      ]
     },
     "execution_count": 13,
     "metadata": {},
     "output_type": "execute_result"
    }
   ],
   "source": [
    "df.columns"
   ]
  },
  {
   "cell_type": "code",
   "execution_count": 14,
   "id": "f469c4b8",
   "metadata": {},
   "outputs": [],
   "source": [
    "nums = ['CreditScore', 'Age', 'Tenure', 'Balance', 'NumOfProducts', 'EstimatedSalary']\n",
    "cats = ['Geography', 'Gender', 'HasCrCard', 'IsActiveMember','Exited']"
   ]
  },
  {
   "cell_type": "code",
   "execution_count": null,
   "id": "5a8d01c9",
   "metadata": {},
   "outputs": [],
   "source": [
    "for col in nums:\n",
    "    fig = px.histogram(df, x=col, width=1000, height=350)\n",
    "    fig.show()"
   ]
  },
  {
   "cell_type": "code",
   "execution_count": null,
   "id": "fb5d786c",
   "metadata": {},
   "outputs": [],
   "source": [
    "for col in cats:\n",
    "    fig = px.histogram(df, x=col, width=1000, height=350)\n",
    "    #fig.update_traces(marker_color='red')\n",
    "    fig.show()"
   ]
  },
  {
   "cell_type": "markdown",
   "id": "42408b03",
   "metadata": {},
   "source": [
    "### ***Observation***\n",
    "    - Age has slight outliers present\n",
    "    - approx 36% of customers have 0 balance, rest customer have balance approx higher than 100K\n",
    "    - approx 95% of customers have either 1 or 2 products\n",
    "    - salary and tenure has almost uniform distribution\n",
    "    - approx 50% of customers are from France, rest of Germany and Spain\n",
    "    - approx 70% of customers have credit card\n",
    "    - almost 48% of customers are not actively using bank accounts\n",
    "    - approx 20% of customers left the bank"
   ]
  },
  {
   "cell_type": "markdown",
   "id": "806c3162",
   "metadata": {},
   "source": [
    "### Bivariate Analysis\n",
    "    - numeric vs numeric - scatterplot\n",
    "    - numeric vs categorical - distplot\n",
    "    - categorical vs categorical - barplot"
   ]
  },
  {
   "cell_type": "code",
   "execution_count": 15,
   "id": "dc7bf392",
   "metadata": {},
   "outputs": [],
   "source": [
    "nums = ['CreditScore', 'Age', 'Tenure', 'Balance', 'NumOfProducts', 'EstimatedSalary']\n",
    "cats = ['Geography', 'Gender', 'HasCrCard', 'IsActiveMember','Exited']"
   ]
  },
  {
   "cell_type": "markdown",
   "id": "c5662f69",
   "metadata": {},
   "source": [
    "### Numeric vs Categorical"
   ]
  },
  {
   "cell_type": "code",
   "execution_count": 16,
   "id": "305719df",
   "metadata": {},
   "outputs": [],
   "source": [
    "import plotly.figure_factory as ff"
   ]
  },
  {
   "cell_type": "code",
   "execution_count": null,
   "id": "105be007",
   "metadata": {},
   "outputs": [],
   "source": [
    "for col in nums:\n",
    "    data = [df[col][df.Exited==0],df[col][df.Exited==1]]\n",
    "    fig = ff.create_distplot(data,['Exited = 0','Exited = 1'])\n",
    "    fig.update_layout(title_text = \"graph for \" + col)\n",
    "    fig.show()"
   ]
  },
  {
   "cell_type": "markdown",
   "id": "26f25aa4",
   "metadata": {},
   "source": [
    "## Categorical vs Categorical"
   ]
  },
  {
   "cell_type": "code",
   "execution_count": 17,
   "id": "2cb683d8",
   "metadata": {},
   "outputs": [
    {
     "name": "stdout",
     "output_type": "stream",
     "text": [
      "Geography\n",
      "Exited        0     1    All\n",
      "Geography                   \n",
      "France     4204   810   5014\n",
      "Germany    1695   814   2509\n",
      "Spain      2064   413   2477\n",
      "All        7963  2037  10000 \n",
      "\n",
      "Geography\n",
      "France     0.161548\n",
      "Germany    0.324432\n",
      "Spain      0.166734\n",
      "All        0.203700\n",
      "dtype: float64 \n",
      " \n",
      "\n",
      "Gender\n",
      "Exited     0     1    All\n",
      "Gender                   \n",
      "Female  3404  1139   4543\n",
      "Male    4559   898   5457\n",
      "All     7963  2037  10000 \n",
      "\n",
      "Gender\n",
      "Female    0.250715\n",
      "Male      0.164559\n",
      "All       0.203700\n",
      "dtype: float64 \n",
      " \n",
      "\n",
      "HasCrCard\n",
      "Exited        0     1    All\n",
      "HasCrCard                   \n",
      "0          2332   613   2945\n",
      "1          5631  1424   7055\n",
      "All        7963  2037  10000 \n",
      "\n",
      "HasCrCard\n",
      "0      0.208149\n",
      "1      0.201843\n",
      "All    0.203700\n",
      "dtype: float64 \n",
      " \n",
      "\n",
      "IsActiveMember\n",
      "Exited             0     1    All\n",
      "IsActiveMember                   \n",
      "0               3547  1302   4849\n",
      "1               4416   735   5151\n",
      "All             7963  2037  10000 \n",
      "\n",
      "IsActiveMember\n",
      "0      0.268509\n",
      "1      0.142691\n",
      "All    0.203700\n",
      "dtype: float64 \n",
      " \n",
      "\n",
      "Exited\n",
      "Exited     0     1    All\n",
      "Exited                   \n",
      "0       7963     0   7963\n",
      "1          0  2037   2037\n",
      "All     7963  2037  10000 \n",
      "\n",
      "Exited\n",
      "0      0.0000\n",
      "1      1.0000\n",
      "All    0.2037\n",
      "dtype: float64 \n",
      " \n",
      "\n"
     ]
    }
   ],
   "source": [
    "for col in cats:\n",
    "    print(col)\n",
    "    pivot = pd.crosstab(df[col], df.Exited, margins=True)\n",
    "    print(pivot, '\\n')\n",
    "    print(pivot[1]/pivot['All'],'\\n','\\n')"
   ]
  },
  {
   "cell_type": "markdown",
   "id": "c4b81f58",
   "metadata": {},
   "source": [
    "## **Observations**\n",
    "    - Significantly impacting factors are - age, NumberOfProducts, Geography, Gender, IsActiveMember"
   ]
  },
  {
   "cell_type": "markdown",
   "id": "3462e03c",
   "metadata": {},
   "source": [
    "## Multivariate Analysis\n",
    "    - numeric vs numeric vs categorical - scatterplot\n",
    "   "
   ]
  },
  {
   "cell_type": "code",
   "execution_count": null,
   "id": "84fbfcce",
   "metadata": {},
   "outputs": [],
   "source": [
    "fig = px.scatter(df, x=\"Age\", y=\"CreditScore\", color=\"Exited\")\n",
    "fig.show()"
   ]
  },
  {
   "cell_type": "code",
   "execution_count": null,
   "id": "7433c815",
   "metadata": {},
   "outputs": [],
   "source": [
    "# categorical vs numeric vs categorical\n",
    "# Geography vs age vs Exited\n",
    "fig = px.strip(df, x='Geography', y='Age', color='Exited')\n",
    "fig.show()"
   ]
  },
  {
   "cell_type": "code",
   "execution_count": null,
   "id": "138f095c",
   "metadata": {},
   "outputs": [],
   "source": [
    "fig = px.parallel_coordinates(df[['Age','Balance','NumOfProducts','Exited']].sample(1000, axis=0), color='Exited')\n",
    "fig.show()"
   ]
  },
  {
   "cell_type": "markdown",
   "id": "aa8e0617",
   "metadata": {},
   "source": [
    "## Statistical Research"
   ]
  },
  {
   "cell_type": "markdown",
   "id": "239a561d",
   "metadata": {},
   "source": [
    "## Correlation Analysis"
   ]
  },
  {
   "cell_type": "code",
   "execution_count": 21,
   "id": "68574c90",
   "metadata": {},
   "outputs": [],
   "source": [
    "import seaborn as sns"
   ]
  },
  {
   "cell_type": "code",
   "execution_count": 30,
   "id": "8714dcb7",
   "metadata": {},
   "outputs": [
    {
     "data": {
      "image/png": "[encoded data removed]",
      "text/plain": [
       "<Figure size 864x576 with 2 Axes>"
      ]
     },
     "metadata": {
      "needs_background": "light"
     },
     "output_type": "display_data"
    }
   ],
   "source": [
    "cor = df.corr()\n",
    "plt.figure(figsize=(12,8))\n",
    "sns.heatmap(cor, annot=True, cmap='coolwarm')\n",
    "plt.show()"
   ]
  },
  {
   "cell_type": "code",
   "execution_count": 18,
   "id": "43402dc3",
   "metadata": {},
   "outputs": [],
   "source": [
    "# Extracting Important Features\n",
    "x = df[['CreditScore', 'Geography', 'Gender', 'Age', 'Balance', 'NumOfProducts', 'IsActiveMember']]\n",
    "y = df['Exited']"
   ]
  },
  {
   "cell_type": "code",
   "execution_count": 19,
   "id": "4a7552d3",
   "metadata": {},
   "outputs": [
    {
     "data": {
      "text/html": [
       "<div>\n",
       "<style scoped>\n",
       "    .dataframe tbody tr th:only-of-type {\n",
       "        vertical-align: middle;\n",
       "    }\n",
       "\n",
       "    .dataframe tbody tr th {\n",
       "        vertical-align: top;\n",
       "    }\n",
       "\n",
       "    .dataframe thead th {\n",
       "        text-align: right;\n",
       "    }\n",
       "</style>\n",
       "<table border=\"1\" class=\"dataframe\">\n",
       "  <thead>\n",
       "    <tr style=\"text-align: right;\">\n",
       "      <th></th>\n",
       "      <th>CreditScore</th>\n",
       "      <th>Geography</th>\n",
       "      <th>Gender</th>\n",
       "      <th>Age</th>\n",
       "      <th>Balance</th>\n",
       "      <th>NumOfProducts</th>\n",
       "      <th>IsActiveMember</th>\n",
       "    </tr>\n",
       "  </thead>\n",
       "  <tbody>\n",
       "    <tr>\n",
       "      <th>0</th>\n",
       "      <td>619</td>\n",
       "      <td>France</td>\n",
       "      <td>Female</td>\n",
       "      <td>42</td>\n",
       "      <td>0.00</td>\n",
       "      <td>1</td>\n",
       "      <td>1</td>\n",
       "    </tr>\n",
       "    <tr>\n",
       "      <th>1</th>\n",
       "      <td>608</td>\n",
       "      <td>Spain</td>\n",
       "      <td>Female</td>\n",
       "      <td>41</td>\n",
       "      <td>83807.86</td>\n",
       "      <td>1</td>\n",
       "      <td>1</td>\n",
       "    </tr>\n",
       "    <tr>\n",
       "      <th>2</th>\n",
       "      <td>502</td>\n",
       "      <td>France</td>\n",
       "      <td>Female</td>\n",
       "      <td>42</td>\n",
       "      <td>159660.80</td>\n",
       "      <td>3</td>\n",
       "      <td>0</td>\n",
       "    </tr>\n",
       "    <tr>\n",
       "      <th>3</th>\n",
       "      <td>699</td>\n",
       "      <td>France</td>\n",
       "      <td>Female</td>\n",
       "      <td>39</td>\n",
       "      <td>0.00</td>\n",
       "      <td>2</td>\n",
       "      <td>0</td>\n",
       "    </tr>\n",
       "    <tr>\n",
       "      <th>4</th>\n",
       "      <td>850</td>\n",
       "      <td>Spain</td>\n",
       "      <td>Female</td>\n",
       "      <td>43</td>\n",
       "      <td>125510.82</td>\n",
       "      <td>1</td>\n",
       "      <td>1</td>\n",
       "    </tr>\n",
       "    <tr>\n",
       "      <th>5</th>\n",
       "      <td>645</td>\n",
       "      <td>Spain</td>\n",
       "      <td>Male</td>\n",
       "      <td>44</td>\n",
       "      <td>113755.78</td>\n",
       "      <td>2</td>\n",
       "      <td>0</td>\n",
       "    </tr>\n",
       "    <tr>\n",
       "      <th>6</th>\n",
       "      <td>822</td>\n",
       "      <td>France</td>\n",
       "      <td>Male</td>\n",
       "      <td>50</td>\n",
       "      <td>0.00</td>\n",
       "      <td>2</td>\n",
       "      <td>1</td>\n",
       "    </tr>\n",
       "    <tr>\n",
       "      <th>7</th>\n",
       "      <td>376</td>\n",
       "      <td>Germany</td>\n",
       "      <td>Female</td>\n",
       "      <td>29</td>\n",
       "      <td>115046.74</td>\n",
       "      <td>4</td>\n",
       "      <td>0</td>\n",
       "    </tr>\n",
       "  </tbody>\n",
       "</table>\n",
       "</div>"
      ],
      "text/plain": [
       "   CreditScore Geography  Gender  Age    Balance  NumOfProducts  \\\n",
       "0          619    France  Female   42       0.00              1   \n",
       "1          608     Spain  Female   41   83807.86              1   \n",
       "2          502    France  Female   42  159660.80              3   \n",
       "3          699    France  Female   39       0.00              2   \n",
       "4          850     Spain  Female   43  125510.82              1   \n",
       "5          645     Spain    Male   44  113755.78              2   \n",
       "6          822    France    Male   50       0.00              2   \n",
       "7          376   Germany  Female   29  115046.74              4   \n",
       "\n",
       "   IsActiveMember  \n",
       "0               1  \n",
       "1               1  \n",
       "2               0  \n",
       "3               0  \n",
       "4               1  \n",
       "5               0  \n",
       "6               1  \n",
       "7               0  "
      ]
     },
     "execution_count": 19,
     "metadata": {},
     "output_type": "execute_result"
    }
   ],
   "source": [
    "x.head(8)"
   ]
  },
  {
   "cell_type": "markdown",
   "id": "a1886dec",
   "metadata": {},
   "source": [
    "## 5. Prepocessing of features\n",
    "    - As a geography and gender are in string format, we need to encode those features\n",
    "    - We can use Onehotencoder to encode the features"
   ]
  },
  {
   "cell_type": "code",
   "execution_count": 25,
   "id": "da8645c2",
   "metadata": {},
   "outputs": [
    {
     "data": {
      "text/plain": [
       "ColumnTransformer(remainder='passthrough',\n",
       "                  transformers=[('ohe',\n",
       "                                 OneHotEncoder(drop='first', sparse=False),\n",
       "                                 [1, 2]),\n",
       "                                ('sc', StandardScaler(), [0, 3, 4])])"
      ]
     },
     "execution_count": 25,
     "metadata": {},
     "output_type": "execute_result"
    }
   ],
   "source": [
    "from sklearn.compose import ColumnTransformer\n",
    "from sklearn.preprocessing import OneHotEncoder,StandardScaler\n",
    "\n",
    "transformer = ColumnTransformer([('ohe', OneHotEncoder(drop='first', sparse=False), [1,2]),\n",
    "                                ('sc', StandardScaler(),[0,3,4])], remainder='passthrough')\n",
    "transformer.fit(x)"
   ]
  },
  {
   "cell_type": "code",
   "execution_count": 27,
   "id": "a6e7904d",
   "metadata": {},
   "outputs": [
    {
     "data": {
      "text/html": [
       "<div>\n",
       "<style scoped>\n",
       "    .dataframe tbody tr th:only-of-type {\n",
       "        vertical-align: middle;\n",
       "    }\n",
       "\n",
       "    .dataframe tbody tr th {\n",
       "        vertical-align: top;\n",
       "    }\n",
       "\n",
       "    .dataframe thead th {\n",
       "        text-align: right;\n",
       "    }\n",
       "</style>\n",
       "<table border=\"1\" class=\"dataframe\">\n",
       "  <thead>\n",
       "    <tr style=\"text-align: right;\">\n",
       "      <th></th>\n",
       "      <th>0</th>\n",
       "      <th>1</th>\n",
       "      <th>2</th>\n",
       "      <th>3</th>\n",
       "      <th>4</th>\n",
       "      <th>5</th>\n",
       "      <th>6</th>\n",
       "      <th>7</th>\n",
       "    </tr>\n",
       "  </thead>\n",
       "  <tbody>\n",
       "    <tr>\n",
       "      <th>0</th>\n",
       "      <td>0.0</td>\n",
       "      <td>0.0</td>\n",
       "      <td>0.0</td>\n",
       "      <td>-0.326221</td>\n",
       "      <td>0.293517</td>\n",
       "      <td>-1.225848</td>\n",
       "      <td>1.0</td>\n",
       "      <td>1.0</td>\n",
       "    </tr>\n",
       "    <tr>\n",
       "      <th>1</th>\n",
       "      <td>0.0</td>\n",
       "      <td>1.0</td>\n",
       "      <td>0.0</td>\n",
       "      <td>-0.440036</td>\n",
       "      <td>0.198164</td>\n",
       "      <td>0.117350</td>\n",
       "      <td>1.0</td>\n",
       "      <td>1.0</td>\n",
       "    </tr>\n",
       "    <tr>\n",
       "      <th>2</th>\n",
       "      <td>0.0</td>\n",
       "      <td>0.0</td>\n",
       "      <td>0.0</td>\n",
       "      <td>-1.536794</td>\n",
       "      <td>0.293517</td>\n",
       "      <td>1.333053</td>\n",
       "      <td>3.0</td>\n",
       "      <td>0.0</td>\n",
       "    </tr>\n",
       "    <tr>\n",
       "      <th>3</th>\n",
       "      <td>0.0</td>\n",
       "      <td>0.0</td>\n",
       "      <td>0.0</td>\n",
       "      <td>0.501521</td>\n",
       "      <td>0.007457</td>\n",
       "      <td>-1.225848</td>\n",
       "      <td>2.0</td>\n",
       "      <td>0.0</td>\n",
       "    </tr>\n",
       "    <tr>\n",
       "      <th>4</th>\n",
       "      <td>0.0</td>\n",
       "      <td>1.0</td>\n",
       "      <td>0.0</td>\n",
       "      <td>2.063884</td>\n",
       "      <td>0.388871</td>\n",
       "      <td>0.785728</td>\n",
       "      <td>1.0</td>\n",
       "      <td>1.0</td>\n",
       "    </tr>\n",
       "    <tr>\n",
       "      <th>5</th>\n",
       "      <td>0.0</td>\n",
       "      <td>1.0</td>\n",
       "      <td>1.0</td>\n",
       "      <td>-0.057205</td>\n",
       "      <td>0.484225</td>\n",
       "      <td>0.597329</td>\n",
       "      <td>2.0</td>\n",
       "      <td>0.0</td>\n",
       "    </tr>\n",
       "    <tr>\n",
       "      <th>6</th>\n",
       "      <td>0.0</td>\n",
       "      <td>0.0</td>\n",
       "      <td>1.0</td>\n",
       "      <td>1.774174</td>\n",
       "      <td>1.056346</td>\n",
       "      <td>-1.225848</td>\n",
       "      <td>2.0</td>\n",
       "      <td>1.0</td>\n",
       "    </tr>\n",
       "    <tr>\n",
       "      <th>7</th>\n",
       "      <td>1.0</td>\n",
       "      <td>0.0</td>\n",
       "      <td>0.0</td>\n",
       "      <td>-2.840488</td>\n",
       "      <td>-0.946079</td>\n",
       "      <td>0.618019</td>\n",
       "      <td>4.0</td>\n",
       "      <td>0.0</td>\n",
       "    </tr>\n",
       "  </tbody>\n",
       "</table>\n",
       "</div>"
      ],
      "text/plain": [
       "     0    1    2         3         4         5    6    7\n",
       "0  0.0  0.0  0.0 -0.326221  0.293517 -1.225848  1.0  1.0\n",
       "1  0.0  1.0  0.0 -0.440036  0.198164  0.117350  1.0  1.0\n",
       "2  0.0  0.0  0.0 -1.536794  0.293517  1.333053  3.0  0.0\n",
       "3  0.0  0.0  0.0  0.501521  0.007457 -1.225848  2.0  0.0\n",
       "4  0.0  1.0  0.0  2.063884  0.388871  0.785728  1.0  1.0\n",
       "5  0.0  1.0  1.0 -0.057205  0.484225  0.597329  2.0  0.0\n",
       "6  0.0  0.0  1.0  1.774174  1.056346 -1.225848  2.0  1.0\n",
       "7  1.0  0.0  0.0 -2.840488 -0.946079  0.618019  4.0  0.0"
      ]
     },
     "execution_count": 27,
     "metadata": {},
     "output_type": "execute_result"
    }
   ],
   "source": [
    "x2 = transformer.transform(x)\n",
    "pd.DataFrame(x2).head(8)"
   ]
  },
  {
   "cell_type": "code",
   "execution_count": 28,
   "id": "32bfc7ae",
   "metadata": {},
   "outputs": [
    {
     "name": "stdout",
     "output_type": "stream",
     "text": [
      "(10000, 8)\n",
      "(8000, 8)\n",
      "(2000, 8)\n",
      "(10000,)\n",
      "(8000,)\n",
      "(2000,)\n"
     ]
    }
   ],
   "source": [
    "# train test split\n",
    "from sklearn.model_selection import train_test_split\n",
    "xtrain,xtest,ytrain,ytest = train_test_split(x2,y,test_size=0.2, random_state=5, stratify=y)\n",
    "print(x2.shape)\n",
    "print(xtrain.shape)\n",
    "print(xtest.shape)\n",
    "print(y.shape)\n",
    "print(ytrain.shape)\n",
    "print(ytest.shape)"
   ]
  },
  {
   "cell_type": "markdown",
   "id": "69a5982e",
   "metadata": {},
   "source": [
    "## 6. Apply Artificial Neural Networks"
   ]
  },
  {
   "cell_type": "code",
   "execution_count": 29,
   "id": "642978fb",
   "metadata": {},
   "outputs": [],
   "source": [
    "## pip install tensorflow"
   ]
  },
  {
   "cell_type": "code",
   "execution_count": 30,
   "id": "8c744e2e",
   "metadata": {},
   "outputs": [],
   "source": [
    "from tensorflow.keras import models,layers"
   ]
  },
  {
   "cell_type": "code",
   "execution_count": 31,
   "id": "26d00f2c",
   "metadata": {},
   "outputs": [],
   "source": [
    "# as we have 8 features, and 2 labels, we will have 8 neurons in input layer, 1 neuron in output layer with sigmoid activation"
   ]
  },
  {
   "cell_type": "code",
   "execution_count": 32,
   "id": "bfb9e578",
   "metadata": {},
   "outputs": [],
   "source": [
    "# adding an input layer and specifying the input shape\n",
    "input_layer = layers.Input(shape=(8,))\n",
    "# adding first hidden layer with 10 neurons and relu activation\n",
    "h1 = layers.Dense(10,activation='relu')(input_layer)\n",
    "# adding second hidden layer with 5 neurons and relu activation\n",
    "h2 = layers.Dense(5,activation='relu')(h1)\n",
    "\n",
    "# adding the output\n",
    "output_layer = layers.Dense(1,activation='sigmoid')(h2)\n",
    "\n",
    "model = models.Model(inputs=input_layer,outputs=output_layer)"
   ]
  },
  {
   "cell_type": "code",
   "execution_count": 33,
   "id": "fed8a114",
   "metadata": {},
   "outputs": [
    {
     "name": "stdout",
     "output_type": "stream",
     "text": [
      "Model: \"model\"\n",
      "_________________________________________________________________\n",
      "Layer (type)                 Output Shape              Param #   \n",
      "=================================================================\n",
      "input_1 (InputLayer)         [(None, 8)]               0         \n",
      "_________________________________________________________________\n",
      "dense (Dense)                (None, 10)                90        \n",
      "_________________________________________________________________\n",
      "dense_1 (Dense)              (None, 5)                 55        \n",
      "_________________________________________________________________\n",
      "dense_2 (Dense)              (None, 1)                 6         \n",
      "=================================================================\n",
      "Total params: 151\n",
      "Trainable params: 151\n",
      "Non-trainable params: 0\n",
      "_________________________________________________________________\n"
     ]
    }
   ],
   "source": [
    "model.summary()"
   ]
  },
  {
   "cell_type": "code",
   "execution_count": 34,
   "id": "e343f1f9",
   "metadata": {},
   "outputs": [
    {
     "name": "stdout",
     "output_type": "stream",
     "text": [
      "Epoch 1/10\n",
      "8/8 [==============================] - 0s 1ms/step - loss: 0.7950 - accuracy: 0.2161\n",
      "Epoch 2/10\n",
      "8/8 [==============================] - 0s 878us/step - loss: 0.7648 - accuracy: 0.2522\n",
      "Epoch 3/10\n",
      "8/8 [==============================] - 0s 1ms/step - loss: 0.7408 - accuracy: 0.3389\n",
      "Epoch 4/10\n",
      "8/8 [==============================] - 0s 1ms/step - loss: 0.7217 - accuracy: 0.4430\n",
      "Epoch 5/10\n",
      "8/8 [==============================] - 0s 1ms/step - loss: 0.7059 - accuracy: 0.5381\n",
      "Epoch 6/10\n",
      "8/8 [==============================] - 0s 1ms/step - loss: 0.6927 - accuracy: 0.6240\n",
      "Epoch 7/10\n",
      "8/8 [==============================] - 0s 1ms/step - loss: 0.6810 - accuracy: 0.6849\n",
      "Epoch 8/10\n",
      "8/8 [==============================] - 0s 941us/step - loss: 0.6702 - accuracy: 0.7205\n",
      "Epoch 9/10\n",
      "8/8 [==============================] - 0s 1ms/step - loss: 0.6599 - accuracy: 0.7471\n",
      "Epoch 10/10\n",
      "8/8 [==============================] - 0s 1ms/step - loss: 0.6496 - accuracy: 0.7580\n"
     ]
    },
    {
     "data": {
      "text/plain": [
       "<tensorflow.python.keras.callbacks.History at 0x15fa5b3a0>"
      ]
     },
     "execution_count": 34,
     "metadata": {},
     "output_type": "execute_result"
    }
   ],
   "source": [
    "model.compile(metrics=['accuracy'],loss='binary_crossentropy',optimizer='adam')\n",
    "model.fit(xtrain,ytrain,epochs=10,batch_size=1000,shuffle=True)"
   ]
  },
  {
   "cell_type": "code",
   "execution_count": 35,
   "id": "64fbe9a2",
   "metadata": {},
   "outputs": [
    {
     "name": "stdout",
     "output_type": "stream",
     "text": [
      "Epoch 1/10\n",
      "8/8 [==============================] - 0s 1ms/step - loss: 0.6395 - accuracy: 0.7688\n",
      "Epoch 2/10\n",
      "8/8 [==============================] - 0s 1ms/step - loss: 0.6288 - accuracy: 0.7764\n",
      "Epoch 3/10\n",
      "8/8 [==============================] - 0s 1ms/step - loss: 0.6180 - accuracy: 0.7834\n",
      "Epoch 4/10\n",
      "8/8 [==============================] - 0s 1ms/step - loss: 0.6066 - accuracy: 0.7855\n",
      "Epoch 5/10\n",
      "8/8 [==============================] - 0s 1ms/step - loss: 0.5945 - accuracy: 0.7899\n",
      "Epoch 6/10\n",
      "8/8 [==============================] - 0s 1ms/step - loss: 0.5822 - accuracy: 0.7926\n",
      "Epoch 7/10\n",
      "8/8 [==============================] - 0s 1ms/step - loss: 0.5694 - accuracy: 0.7952\n",
      "Epoch 8/10\n",
      "8/8 [==============================] - 0s 1ms/step - loss: 0.5564 - accuracy: 0.7970\n",
      "Epoch 9/10\n",
      "8/8 [==============================] - 0s 1ms/step - loss: 0.5437 - accuracy: 0.7974\n",
      "Epoch 10/10\n",
      "8/8 [==============================] - 0s 1ms/step - loss: 0.5312 - accuracy: 0.7977\n"
     ]
    },
    {
     "data": {
      "text/plain": [
       "<tensorflow.python.keras.callbacks.History at 0x1601a2400>"
      ]
     },
     "execution_count": 35,
     "metadata": {},
     "output_type": "execute_result"
    }
   ],
   "source": [
    "model.fit(xtrain,ytrain,epochs=10,batch_size=1000,shuffle=True)"
   ]
  },
  {
   "cell_type": "code",
   "execution_count": 36,
   "id": "93f5cdab",
   "metadata": {},
   "outputs": [
    {
     "name": "stdout",
     "output_type": "stream",
     "text": [
      "Accuracy  0.768\n",
      "Recall  0.31695331695331697\n",
      "Precision  0.4095238095238095\n",
      "F1 Score  0.3573407202216066\n"
     ]
    }
   ],
   "source": [
    "ypred = model.predict(xtest)\n",
    "ypred = np.where(ypred>0.4,1,0)\n",
    "from sklearn import metrics\n",
    "print(\"Accuracy \",metrics.accuracy_score(ytest,ypred))\n",
    "print(\"Recall \",metrics.recall_score(ytest,ypred))\n",
    "print(\"Precision \",metrics.precision_score(ytest,ypred))\n",
    "print(\"F1 Score \",metrics.f1_score(ytest,ypred))\n",
    "\n",
    "ypred = model.predict"
   ]
  },
  {
   "cell_type": "code",
   "execution_count": 38,
   "id": "e39a8b52",
   "metadata": {},
   "outputs": [
    {
     "name": "stdout",
     "output_type": "stream",
     "text": [
      "(8000, 1)\n",
      "Accuracy  0.766\n",
      "Recall  0.3312883435582822\n",
      "Precision  0.4084720121028744\n",
      "F1 Score  0.36585365853658536\n"
     ]
    }
   ],
   "source": [
    "ypred = model.predict(xtrain)\n",
    "print(ypred.shape)\n",
    "ypred = np.where(ypred>0.4,1,0)\n",
    "from sklearn import metrics\n",
    "print(\"Accuracy \",metrics.accuracy_score(ytrain,ypred))\n",
    "print(\"Recall \",metrics.recall_score(ytrain,ypred))\n",
    "print(\"Precision \",metrics.precision_score(ytrain,ypred))\n",
    "print(\"F1 Score \",metrics.f1_score(ytrain,ypred))"
   ]
  },
  {
   "cell_type": "markdown",
   "id": "799c1557",
   "metadata": {},
   "source": [
    "## Libraries for NLP\n",
    "    conda install pyaudio\n",
    "    pip install speechrecognition pyttsx3\n",
    "    pip install textblob\n",
    "    pip install wordcloud gensim spacy\n",
    "    python -m spacy download en \n",
    "    python -m spacy download en_core_web_sm"
   ]
  }
 ],
 "metadata": {
  "kernelspec": {
   "display_name": "Python 3",
   "language": "python",
   "name": "python3"
  },
  "language_info": {
   "codemirror_mode": {
    "name": "ipython",
    "version": 3
   },
   "file_extension": ".py",
   "mimetype": "text/x-python",
   "name": "python",
   "nbconvert_exporter": "python",
   "pygments_lexer": "ipython3",
   "version": "3.8.8"
  }
 },
 "nbformat": 4,
 "nbformat_minor": 5
}
