{
 "cells": [
  {
   "cell_type": "code",
   "execution_count": 1,
   "id": "8cffaf35",
   "metadata": {},
   "outputs": [],
   "source": [
    "import numpy as np"
   ]
  },
  {
   "cell_type": "code",
   "execution_count": 2,
   "id": "eb8fff94",
   "metadata": {},
   "outputs": [],
   "source": [
    "x = np.array([[7, 5, 2],\n",
    "             [3, 6 , 7],\n",
    "             [2, 4, 9]])"
   ]
  },
  {
   "cell_type": "code",
   "execution_count": 3,
   "id": "60d4053c",
   "metadata": {},
   "outputs": [
    {
     "data": {
      "text/plain": [
       "(array([15.09291827,  5.49681386,  1.41026787]),\n",
       " array([[-0.5269699 , -0.91544309,  0.59586932],\n",
       "        [-0.62074589,  0.12178491, -0.76450905],\n",
       "        [-0.58049743,  0.3835784 ,  0.24589768]]))"
      ]
     },
     "execution_count": 3,
     "metadata": {},
     "output_type": "execute_result"
    }
   ],
   "source": [
    "np.linalg.eig(x)"
   ]
  },
  {
   "cell_type": "code",
   "execution_count": 4,
   "id": "6c3b614f",
   "metadata": {},
   "outputs": [
    {
     "data": {
      "text/plain": [
       "array([[1., 0., 0.],\n",
       "       [0., 1., 0.],\n",
       "       [0., 0., 1.]])"
      ]
     },
     "execution_count": 4,
     "metadata": {},
     "output_type": "execute_result"
    }
   ],
   "source": [
    "e = np.eye(3)\n",
    "e"
   ]
  },
  {
   "cell_type": "code",
   "execution_count": 5,
   "id": "2ec266b7",
   "metadata": {},
   "outputs": [
    {
     "data": {
      "text/plain": [
       "(array([60.09291827, 50.49681386, 46.41026787]),\n",
       " array([[-0.5269699 , -0.91544309,  0.59586932],\n",
       "        [-0.62074589,  0.12178491, -0.76450905],\n",
       "        [-0.58049743,  0.3835784 ,  0.24589768]]))"
      ]
     },
     "execution_count": 5,
     "metadata": {},
     "output_type": "execute_result"
    }
   ],
   "source": [
    "y = x + 45 * e\n",
    "np.linalg.eig(y)"
   ]
  },
  {
   "cell_type": "markdown",
   "id": "cfbc2958",
   "metadata": {},
   "source": [
    "## Dimensionality Reduction using PCA"
   ]
  },
  {
   "cell_type": "code",
   "execution_count": 6,
   "id": "751254bd",
   "metadata": {},
   "outputs": [],
   "source": [
    "import numpy as np\n",
    "import matplotlib.pyplot as plt"
   ]
  },
  {
   "cell_type": "code",
   "execution_count": 7,
   "id": "c962239a",
   "metadata": {},
   "outputs": [
    {
     "data": {
      "image/png": "[encoded data removed]",
      "text/plain": [
       "<Figure size 432x288 with 1 Axes>"
      ]
     },
     "metadata": {
      "needs_background": "light"
     },
     "output_type": "display_data"
    }
   ],
   "source": [
    "x1 = np.random.randint(20,100,30)\n",
    "x2 = np.random.randint(2,15,30)+0.4*x1\n",
    "plt.scatter(x1, x2)\n",
    "plt.show()"
   ]
  },
  {
   "cell_type": "code",
   "execution_count": 8,
   "id": "45739f4c",
   "metadata": {},
   "outputs": [
    {
     "name": "stdout",
     "output_type": "stream",
     "text": [
      "(2, 30)\n",
      "(30, 2)\n"
     ]
    }
   ],
   "source": [
    "data = np.concatenate([[x1],[x2]])\n",
    "print(data.shape)\n",
    "data = data.T\n",
    "print(data.shape)"
   ]
  },
  {
   "cell_type": "markdown",
   "id": "ef6ae607",
   "metadata": {},
   "source": [
    "## Apply PCA"
   ]
  },
  {
   "cell_type": "code",
   "execution_count": 9,
   "id": "55a0e36f",
   "metadata": {},
   "outputs": [],
   "source": [
    "from sklearn.decomposition import PCA\n",
    "model = PCA(n_components=1)"
   ]
  },
  {
   "cell_type": "code",
   "execution_count": 10,
   "id": "02c9029a",
   "metadata": {},
   "outputs": [
    {
     "data": {
      "text/plain": [
       "PCA(n_components=1)"
      ]
     },
     "execution_count": 10,
     "metadata": {},
     "output_type": "execute_result"
    }
   ],
   "source": [
    "# train the model\n",
    "model.fit(data)"
   ]
  },
  {
   "cell_type": "code",
   "execution_count": 11,
   "id": "ef916861",
   "metadata": {},
   "outputs": [
    {
     "data": {
      "text/plain": [
       "(30, 1)"
      ]
     },
     "execution_count": 11,
     "metadata": {},
     "output_type": "execute_result"
    }
   ],
   "source": [
    "data2 = model.transform(data)\n",
    "data2.shape"
   ]
  },
  {
   "cell_type": "code",
   "execution_count": 12,
   "id": "6371e987",
   "metadata": {},
   "outputs": [
    {
     "data": {
      "text/plain": [
       "array([0.98343998])"
      ]
     },
     "execution_count": 12,
     "metadata": {},
     "output_type": "execute_result"
    }
   ],
   "source": [
    "model.explained_variance_ratio_"
   ]
  },
  {
   "cell_type": "code",
   "execution_count": 13,
   "id": "f321eaf8",
   "metadata": {},
   "outputs": [
    {
     "name": "stdout",
     "output_type": "stream",
     "text": [
      "(30, 2)\n"
     ]
    }
   ],
   "source": [
    "data3 = model.inverse_transform(data2)\n",
    "print(data3.shape)"
   ]
  },
  {
   "cell_type": "code",
   "execution_count": 14,
   "id": "9f235d6c",
   "metadata": {},
   "outputs": [
    {
     "data": {
      "text/plain": [
       "array([[29. , 25.6],\n",
       "       [62. , 34.8],\n",
       "       [32. , 14.8],\n",
       "       [57. , 28.8],\n",
       "       [74. , 37.6],\n",
       "       [47. , 25.8],\n",
       "       [61. , 29.4],\n",
       "       [62. , 34.8],\n",
       "       [74. , 36.6],\n",
       "       [67. , 33.8],\n",
       "       [42. , 22.8],\n",
       "       [67. , 31.8],\n",
       "       [36. , 25.4],\n",
       "       [45. , 32. ],\n",
       "       [85. , 41. ],\n",
       "       [23. , 21.2],\n",
       "       [41. , 24.4],\n",
       "       [69. , 32.6],\n",
       "       [73. , 42.2],\n",
       "       [42. , 23.8],\n",
       "       [88. , 47.2],\n",
       "       [84. , 43.6],\n",
       "       [28. , 23.2],\n",
       "       [37. , 21.8],\n",
       "       [50. , 24. ],\n",
       "       [94. , 43.6],\n",
       "       [77. , 43.8],\n",
       "       [72. , 38.8],\n",
       "       [35. , 25. ],\n",
       "       [96. , 47.4]])"
      ]
     },
     "execution_count": 14,
     "metadata": {},
     "output_type": "execute_result"
    }
   ],
   "source": [
    "data"
   ]
  },
  {
   "cell_type": "code",
   "execution_count": 15,
   "id": "4df75215",
   "metadata": {},
   "outputs": [
    {
     "data": {
      "text/plain": [
       "array([[30.80796831, 21.0340488 ],\n",
       "       [62.48432499, 33.57685673],\n",
       "       [29.70452796, 20.59712227],\n",
       "       [56.10822964, 31.05213016],\n",
       "       [73.81629191, 38.0639474 ],\n",
       "       [46.43672491, 27.22252856],\n",
       "       [59.77145246, 32.50264736],\n",
       "       [62.48432499, 33.57685673],\n",
       "       [73.47399346, 37.92840834],\n",
       "       [66.46433125, 35.15280988],\n",
       "       [41.08752489, 25.10441917],\n",
       "       [65.77973436, 34.88173176],\n",
       "       [36.7907352 , 23.40303008],\n",
       "       [46.83005337, 27.37827385],\n",
       "       [84.48917695, 42.29006306],\n",
       "       [24.11508952, 18.38388628],\n",
       "       [40.77074146, 24.97898323],\n",
       "       [67.782495  , 35.67475989],\n",
       "       [74.5264038 , 38.34512863],\n",
       "       [41.42982333, 25.23995823],\n",
       "       [89.20481011, 44.15730056],\n",
       "       [84.51469196, 42.30016617],\n",
       "       [29.12199111, 20.36645661],\n",
       "       [36.42292175, 23.2573879 ],\n",
       "       [48.41397054, 28.00545358],\n",
       "       [93.15930136, 45.72315059],\n",
       "       [78.53192507, 39.93118489],\n",
       "       [72.49812816, 37.54199739],\n",
       "       [35.78935488, 23.00651601],\n",
       "       [96.18895732, 46.9227959 ]])"
      ]
     },
     "execution_count": 15,
     "metadata": {},
     "output_type": "execute_result"
    }
   ],
   "source": [
    "data3"
   ]
  },
  {
   "cell_type": "code",
   "execution_count": null,
   "id": "722e9c00",
   "metadata": {},
   "outputs": [],
   "source": []
  }
 ],
 "metadata": {
  "kernelspec": {
   "display_name": "Python 3",
   "language": "python",
   "name": "python3"
  },
  "language_info": {
   "codemirror_mode": {
    "name": "ipython",
    "version": 3
   },
   "file_extension": ".py",
   "mimetype": "text/x-python",
   "name": "python",
   "nbconvert_exporter": "python",
   "pygments_lexer": "ipython3",
   "version": "3.8.8"
  }
 },
 "nbformat": 4,
 "nbformat_minor": 5
}