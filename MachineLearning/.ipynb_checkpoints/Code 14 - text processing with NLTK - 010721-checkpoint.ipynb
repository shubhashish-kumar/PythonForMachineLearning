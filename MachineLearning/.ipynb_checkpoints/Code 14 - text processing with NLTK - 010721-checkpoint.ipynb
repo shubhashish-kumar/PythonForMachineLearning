{
 "cells": [
  {
   "cell_type": "markdown",
   "id": "0cf4a663",
   "metadata": {},
   "source": [
    "# Text processing with NLTK\n",
    "    - tokenization - slitting text into tokens of words, sentences\n",
    "    - lemmatization - a process of converting a word into its root form\n",
    "    - pos tagging\n",
    "    - spelling correcion"
   ]
  },
  {
   "cell_type": "code",
   "execution_count": 1,
   "id": "f16bd2e0",
   "metadata": {},
   "outputs": [
    {
     "name": "stderr",
     "output_type": "stream",
     "text": [
      "[nltk_data] Downloading package punkt to /Users/kuma70/nltk_data...\n",
      "[nltk_data]   Package punkt is already up-to-date!\n",
      "[nltk_data] Downloading package wordnet to /Users/kuma70/nltk_data...\n",
      "[nltk_data]   Package wordnet is already up-to-date!\n",
      "[nltk_data] Downloading package tagsets to /Users/kuma70/nltk_data...\n",
      "[nltk_data]   Package tagsets is already up-to-date!\n",
      "[nltk_data] Downloading package averaged_perceptron_tagger to\n",
      "[nltk_data]     /Users/kuma70/nltk_data...\n",
      "[nltk_data]   Package averaged_perceptron_tagger is already up-to-\n",
      "[nltk_data]       date!\n"
     ]
    },
    {
     "data": {
      "text/plain": [
       "True"
      ]
     },
     "execution_count": 1,
     "metadata": {},
     "output_type": "execute_result"
    }
   ],
   "source": [
    "import nltk\n",
    "nltk.download(\"punkt\")\n",
    "nltk.download(\"wordnet\")\n",
    "nltk.download(\"tagsets\")\n",
    "nltk.download(\"averaged_perceptron_tagger\")"
   ]
  },
  {
   "cell_type": "code",
   "execution_count": 2,
   "id": "ed16cfb4",
   "metadata": {},
   "outputs": [
    {
     "name": "stdout",
     "output_type": "stream",
     "text": [
      "Pune is a sprawling city in the western Indian state of Maharashtra. It was once the base of the Peshwas (prime ministers) of the Maratha Empire, which lasted from 1674 to 1818. It's known for the grand Aga Khan Palace, built in 1892 and now a memorial to Mahatma Gandhi, whose ashes are preserved in the garden. The 8th-century Pataleshwar Cave Temple is dedicated to the Hindu god Shiva.\n"
     ]
    }
   ],
   "source": [
    "data = \"Pune is a sprawling city in the western Indian state of Maharashtra. It was once the base of the Peshwas (prime ministers) of the Maratha Empire, which lasted from 1674 to 1818. It's known for the grand Aga Khan Palace, built in 1892 and now a memorial to Mahatma Gandhi, whose ashes are preserved in the garden. The 8th-century Pataleshwar Cave Temple is dedicated to the Hindu god Shiva.\"\n",
    "print(data)"
   ]
  },
  {
   "cell_type": "code",
   "execution_count": 3,
   "id": "66e27cbb",
   "metadata": {},
   "outputs": [
    {
     "data": {
      "text/plain": [
       "['Pune is a sprawling city in the western Indian state of Maharashtra.',\n",
       " 'It was once the base of the Peshwas (prime ministers) of the Maratha Empire, which lasted from 1674 to 1818.',\n",
       " \"It's known for the grand Aga Khan Palace, built in 1892 and now a memorial to Mahatma Gandhi, whose ashes are preserved in the garden.\",\n",
       " 'The 8th-century Pataleshwar Cave Temple is dedicated to the Hindu god Shiva.']"
      ]
     },
     "execution_count": 3,
     "metadata": {},
     "output_type": "execute_result"
    }
   ],
   "source": [
    "nltk.sent_tokenize(data)"
   ]
  },
  {
   "cell_type": "code",
   "execution_count": 4,
   "id": "c3cd897e",
   "metadata": {},
   "outputs": [
    {
     "data": {
      "text/plain": [
       "['Pune',\n",
       " 'is',\n",
       " 'a',\n",
       " 'sprawling',\n",
       " 'city',\n",
       " 'in',\n",
       " 'the',\n",
       " 'western',\n",
       " 'Indian',\n",
       " 'state',\n",
       " 'of',\n",
       " 'Maharashtra',\n",
       " '.',\n",
       " 'It',\n",
       " 'was',\n",
       " 'once',\n",
       " 'the',\n",
       " 'base',\n",
       " 'of',\n",
       " 'the',\n",
       " 'Peshwas',\n",
       " '(',\n",
       " 'prime',\n",
       " 'ministers',\n",
       " ')',\n",
       " 'of',\n",
       " 'the',\n",
       " 'Maratha',\n",
       " 'Empire',\n",
       " ',',\n",
       " 'which',\n",
       " 'lasted',\n",
       " 'from',\n",
       " '1674',\n",
       " 'to',\n",
       " '1818',\n",
       " '.',\n",
       " 'It',\n",
       " \"'s\",\n",
       " 'known',\n",
       " 'for',\n",
       " 'the',\n",
       " 'grand',\n",
       " 'Aga',\n",
       " 'Khan',\n",
       " 'Palace',\n",
       " ',',\n",
       " 'built',\n",
       " 'in',\n",
       " '1892',\n",
       " 'and',\n",
       " 'now',\n",
       " 'a',\n",
       " 'memorial',\n",
       " 'to',\n",
       " 'Mahatma',\n",
       " 'Gandhi',\n",
       " ',',\n",
       " 'whose',\n",
       " 'ashes',\n",
       " 'are',\n",
       " 'preserved',\n",
       " 'in',\n",
       " 'the',\n",
       " 'garden',\n",
       " '.',\n",
       " 'The',\n",
       " '8th-century',\n",
       " 'Pataleshwar',\n",
       " 'Cave',\n",
       " 'Temple',\n",
       " 'is',\n",
       " 'dedicated',\n",
       " 'to',\n",
       " 'the',\n",
       " 'Hindu',\n",
       " 'god',\n",
       " 'Shiva',\n",
       " '.']"
      ]
     },
     "execution_count": 4,
     "metadata": {},
     "output_type": "execute_result"
    }
   ],
   "source": [
    "nltk.word_tokenize(data)"
   ]
  },
  {
   "cell_type": "markdown",
   "id": "873e4790",
   "metadata": {},
   "source": [
    "### Lemmatization"
   ]
  },
  {
   "cell_type": "code",
   "execution_count": 5,
   "id": "891664e4",
   "metadata": {},
   "outputs": [
    {
     "data": {
      "text/plain": [
       "'child'"
      ]
     },
     "execution_count": 5,
     "metadata": {},
     "output_type": "execute_result"
    }
   ],
   "source": [
    "from nltk.stem import WordNetLemmatizer\n",
    "wd = WordNetLemmatizer()\n",
    "wd.lemmatize('children')"
   ]
  },
  {
   "cell_type": "code",
   "execution_count": 6,
   "id": "59ca902d",
   "metadata": {},
   "outputs": [
    {
     "data": {
      "text/plain": [
       "'wife'"
      ]
     },
     "execution_count": 6,
     "metadata": {},
     "output_type": "execute_result"
    }
   ],
   "source": [
    "wd.lemmatize('wives')"
   ]
  },
  {
   "cell_type": "code",
   "execution_count": 7,
   "id": "23e6fc57",
   "metadata": {},
   "outputs": [
    {
     "data": {
      "text/plain": [
       "'box'"
      ]
     },
     "execution_count": 7,
     "metadata": {},
     "output_type": "execute_result"
    }
   ],
   "source": [
    "wd.lemmatize('boxes')"
   ]
  },
  {
   "cell_type": "code",
   "execution_count": 8,
   "id": "4aa56504",
   "metadata": {},
   "outputs": [
    {
     "data": {
      "text/plain": [
       "'go'"
      ]
     },
     "execution_count": 8,
     "metadata": {},
     "output_type": "execute_result"
    }
   ],
   "source": [
    "wd.lemmatize('went','v') # v = verb"
   ]
  },
  {
   "cell_type": "code",
   "execution_count": 9,
   "id": "f3d96ecf",
   "metadata": {},
   "outputs": [
    {
     "data": {
      "text/plain": [
       "'happy'"
      ]
     },
     "execution_count": 9,
     "metadata": {},
     "output_type": "execute_result"
    }
   ],
   "source": [
    "wd.lemmatize('happier', 'a') # a = adjective"
   ]
  },
  {
   "cell_type": "markdown",
   "id": "17856000",
   "metadata": {},
   "source": [
    "## Pos Tagging"
   ]
  },
  {
   "cell_type": "code",
   "execution_count": 10,
   "id": "d6a1f905",
   "metadata": {},
   "outputs": [
    {
     "data": {
      "text/plain": [
       "[('I', 'PRP'),\n",
       " ('lost', 'VBD'),\n",
       " ('my', 'PRP$'),\n",
       " ('watch', 'NN'),\n",
       " ('while', 'IN'),\n",
       " ('roaming', 'VBG'),\n",
       " ('in', 'IN'),\n",
       " ('Mumbai', 'NNP'),\n",
       " ('.', '.')]"
      ]
     },
     "execution_count": 10,
     "metadata": {},
     "output_type": "execute_result"
    }
   ],
   "source": [
    "nltk.pos_tag(nltk.word_tokenize(\"I lost my watch while roaming in Mumbai.\"))"
   ]
  },
  {
   "cell_type": "code",
   "execution_count": 11,
   "id": "b9a7449a",
   "metadata": {},
   "outputs": [
    {
     "name": "stdout",
     "output_type": "stream",
     "text": [
      "PRP$: pronoun, possessive\n",
      "    her his mine my our ours their thy your\n"
     ]
    }
   ],
   "source": [
    "nltk.help.upenn_tagset(\"PRP$\")"
   ]
  },
  {
   "cell_type": "markdown",
   "id": "b39ccc40",
   "metadata": {},
   "source": [
    "## Spelling Correction"
   ]
  },
  {
   "cell_type": "code",
   "execution_count": 12,
   "id": "634fbb48",
   "metadata": {},
   "outputs": [
    {
     "data": {
      "text/plain": [
       "0.9"
      ]
     },
     "execution_count": 12,
     "metadata": {},
     "output_type": "execute_result"
    }
   ],
   "source": [
    "nltk.jaccard_distance(set(\"orange\"),set(\"mumbai\"))"
   ]
  },
  {
   "cell_type": "code",
   "execution_count": 13,
   "id": "1c27486b",
   "metadata": {},
   "outputs": [
    {
     "data": {
      "text/plain": [
       "0.16666666666666666"
      ]
     },
     "execution_count": 13,
     "metadata": {},
     "output_type": "execute_result"
    }
   ],
   "source": [
    "nltk.jaccard_distance(set(\"orange\"),set(\"orenge\"))"
   ]
  },
  {
   "cell_type": "code",
   "execution_count": 14,
   "id": "25a418d2",
   "metadata": {},
   "outputs": [],
   "source": [
    "import numpy as np"
   ]
  },
  {
   "cell_type": "code",
   "execution_count": 15,
   "id": "ed46a26c",
   "metadata": {},
   "outputs": [],
   "source": [
    "dic = [\"orange\",'apple','grapes','mango','banana']\n",
    "\n",
    "def recommend(word):\n",
    "    score = [nltk.jaccard_distance(set(word),set(w)) for w in dic]\n",
    "    return dic[np.argmin(score)]"
   ]
  },
  {
   "cell_type": "code",
   "execution_count": 16,
   "id": "457625d8",
   "metadata": {},
   "outputs": [
    {
     "data": {
      "text/plain": [
       "'apple'"
      ]
     },
     "execution_count": 16,
     "metadata": {},
     "output_type": "execute_result"
    }
   ],
   "source": [
    "recommend(\"applo\")"
   ]
  },
  {
   "cell_type": "code",
   "execution_count": 17,
   "id": "7b260a69",
   "metadata": {},
   "outputs": [
    {
     "data": {
      "text/plain": [
       "'mango'"
      ]
     },
     "execution_count": 17,
     "metadata": {},
     "output_type": "execute_result"
    }
   ],
   "source": [
    "recommend(\"mongo\")"
   ]
  },
  {
   "cell_type": "code",
   "execution_count": null,
   "id": "d70d4a75",
   "metadata": {},
   "outputs": [],
   "source": []
  }
 ],
 "metadata": {
  "kernelspec": {
   "display_name": "Python 3",
   "language": "python",
   "name": "python3"
  },
  "language_info": {
   "codemirror_mode": {
    "name": "ipython",
    "version": 3
   },
   "file_extension": ".py",
   "mimetype": "text/x-python",
   "name": "python",
   "nbconvert_exporter": "python",
   "pygments_lexer": "ipython3",
   "version": "3.8.8"
  }
 },
 "nbformat": 4,
 "nbformat_minor": 5
}
