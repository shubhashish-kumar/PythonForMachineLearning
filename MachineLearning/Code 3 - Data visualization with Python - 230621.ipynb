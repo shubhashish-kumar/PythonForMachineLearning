{
 "cells": [
  {
   "cell_type": "markdown",
   "id": "a5e14227",
   "metadata": {},
   "source": [
    "## Data visualization with Python"
   ]
  },
  {
   "cell_type": "code",
   "execution_count": 3,
   "id": "c8ef05dc",
   "metadata": {},
   "outputs": [],
   "source": [
    "import numpy as np\n",
    "import matplotlib.pyplot as plt"
   ]
  },
  {
   "cell_type": "code",
   "execution_count": 5,
   "id": "c676913e",
   "metadata": {},
   "outputs": [],
   "source": [
    "x = np.arange(1, 10, 0.5)\n",
    "y = np.exp(x)\n",
    "z = np.exp(x - 0.2)"
   ]
  },
  {
   "cell_type": "markdown",
   "id": "3c8d534b",
   "metadata": {},
   "source": [
    "## Line plot"
   ]
  },
  {
   "cell_type": "code",
   "execution_count": null,
   "id": "fda52ede",
   "metadata": {},
   "outputs": [],
   "source": [
    "plt.plot(x,y)\n",
    "plt.show()"
   ]
  },
  {
   "cell_type": "code",
   "execution_count": null,
   "id": "6b5d14e9",
   "metadata": {},
   "outputs": [],
   "source": [
    "plt.plot(x,y, c='r')\n",
    "plt.plot(x,z, c='g')\n",
    "plt.show()"
   ]
  },
  {
   "cell_type": "code",
   "execution_count": null,
   "id": "0175733d",
   "metadata": {},
   "outputs": [],
   "source": [
    "plt.plot(x,y, c='r')\n",
    "plt.show()\n",
    "plt.plot(x,z, c ='g')\n",
    "plt.show()"
   ]
  },
  {
   "cell_type": "code",
   "execution_count": null,
   "id": "a9997ab6",
   "metadata": {},
   "outputs": [],
   "source": [
    "plt.figure(figsize=(12,5))\n",
    "plt.plot(x,y, c='r', label='x vs y')\n",
    "plt.plot(x,z,c ='g', label='x vs z')\n",
    "plt.xlabel('values of x')\n",
    "plt.ylabel('values of y')\n",
    "plt.title('graph of x, y, z')\n",
    "plt.legend()\n",
    "plt.show()"
   ]
  },
  {
   "cell_type": "markdown",
   "id": "e88261f3",
   "metadata": {},
   "source": [
    "## scatterplot"
   ]
  },
  {
   "cell_type": "code",
   "execution_count": null,
   "id": "aa2428dc",
   "metadata": {},
   "outputs": [],
   "source": [
    "plt.figure(figsize=(12,5))\n",
    "plt.scatter(x,y)\n",
    "plt.show()"
   ]
  },
  {
   "cell_type": "code",
   "execution_count": null,
   "id": "9fcd155c",
   "metadata": {},
   "outputs": [],
   "source": [
    "plt.figure(figsize=(12,5))\n",
    "plt.scatter(x,y)\n",
    "plt.plot(x,y, c='r')\n",
    "plt.show()"
   ]
  },
  {
   "cell_type": "markdown",
   "id": "c3c92235",
   "metadata": {},
   "source": [
    "## barplot"
   ]
  },
  {
   "cell_type": "code",
   "execution_count": null,
   "id": "9de38364",
   "metadata": {},
   "outputs": [],
   "source": [
    "names=['CCU','BOM','MAA','BLR','DEL']\n",
    "vals=[45,56,12,23,78]\n",
    "plt.figure(figsize=(12,5))\n",
    "#plt.bar(names, vals, color=['red','lightgreen','lightblue','orange','yellow'])\n",
    "plt.bar(names, vals, color=['r','g','y','b'])\n",
    "plt.show()"
   ]
  },
  {
   "cell_type": "markdown",
   "id": "c49ab97f",
   "metadata": {},
   "source": [
    "## pie chart"
   ]
  },
  {
   "cell_type": "code",
   "execution_count": null,
   "id": "c90d4684",
   "metadata": {},
   "outputs": [],
   "source": [
    "plt.pie(vals, labels=names)\n",
    "plt.show()"
   ]
  },
  {
   "cell_type": "markdown",
   "id": "c140756a",
   "metadata": {},
   "source": [
    "## Box plot"
   ]
  },
  {
   "cell_type": "code",
   "execution_count": null,
   "id": "c3acf84c",
   "metadata": {},
   "outputs": [],
   "source": [
    "plt.boxplot(x)\n",
    "plt.show()"
   ]
  },
  {
   "cell_type": "code",
   "execution_count": 22,
   "id": "a153e42e",
   "metadata": {},
   "outputs": [
    {
     "data": {
      "text/plain": [
       "array([189, 186, 175, 135, 100, 164, 150, 191, 142, 159, 168, 151, 155,\n",
       "       189, 177, 172, 144, 121, 166, 119,  39,  33])"
      ]
     },
     "execution_count": 22,
     "metadata": {},
     "output_type": "execute_result"
    }
   ],
   "source": [
    "x = np.random.randint(100,200,20)\n",
    "x = np.concatenate([x, np.random.randint(30,40,2)])\n",
    "x"
   ]
  },
  {
   "cell_type": "code",
   "execution_count": 23,
   "id": "bbeb4464",
   "metadata": {},
   "outputs": [
    {
     "data": {
      "image/png": "[encoded data removed]",
      "text/plain": [
       "<Figure size 432x288 with 1 Axes>"
      ]
     },
     "metadata": {
      "needs_background": "light"
     },
     "output_type": "display_data"
    }
   ],
   "source": [
    "plt.boxplot(x)\n",
    "plt.show()"
   ]
  },
  {
   "cell_type": "code",
   "execution_count": null,
   "id": "7947556a",
   "metadata": {},
   "outputs": [],
   "source": []
  }
 ],
 "metadata": {
  "kernelspec": {
   "display_name": "Python 3",
   "language": "python",
   "name": "python3"
  },
  "language_info": {
   "codemirror_mode": {
    "name": "ipython",
    "version": 3
   },
   "file_extension": ".py",
   "mimetype": "text/x-python",
   "name": "python",
   "nbconvert_exporter": "python",
   "pygments_lexer": "ipython3",
   "version": "3.8.8"
  }
 },
 "nbformat": 4,
 "nbformat_minor": 5
}
