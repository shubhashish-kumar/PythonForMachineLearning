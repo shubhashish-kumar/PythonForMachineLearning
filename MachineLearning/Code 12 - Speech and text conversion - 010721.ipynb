{
 "cells": [
  {
   "cell_type": "markdown",
   "id": "bd4b186b",
   "metadata": {},
   "source": [
    "## Speech to text conversion \n",
    "    \n",
    "    Conda install pyaudio\n",
    "    pip install speechrecognition pyttsx3"
   ]
  },
  {
   "cell_type": "code",
   "execution_count": 5,
   "id": "e460e81f",
   "metadata": {},
   "outputs": [],
   "source": [
    "import speech_recognition as sr"
   ]
  },
  {
   "cell_type": "code",
   "execution_count": 6,
   "id": "70efd20c",
   "metadata": {},
   "outputs": [],
   "source": [
    "r = sr.Recognizer()"
   ]
  },
  {
   "cell_type": "code",
   "execution_count": 8,
   "id": "fb24de39",
   "metadata": {},
   "outputs": [],
   "source": [
    "# record some audio\n",
    "with sr.Microphone(0) as source:\n",
    "    audio = r.listen(source,phrase_time_limit=10)"
   ]
  },
  {
   "cell_type": "code",
   "execution_count": 9,
   "id": "e4e07051",
   "metadata": {},
   "outputs": [
    {
     "name": "stdout",
     "output_type": "stream",
     "text": [
      "hello hello hello hello hello\n"
     ]
    }
   ],
   "source": [
    "text = r.recognize_google(audio)\n",
    "print(text)"
   ]
  },
  {
   "cell_type": "markdown",
   "id": "b1efa55f",
   "metadata": {},
   "source": [
    "## text to speech conversion"
   ]
  },
  {
   "cell_type": "code",
   "execution_count": 11,
   "id": "af2eea9c",
   "metadata": {},
   "outputs": [],
   "source": [
    "import pyttsx3\n",
    "engine = pyttsx3.init()\n",
    "engine.say(\"Hello Everyone, Hope you are doing good today. Thank You!\")\n",
    "engine.runAndWait()"
   ]
  },
  {
   "cell_type": "code",
   "execution_count": 12,
   "id": "cfb03130",
   "metadata": {},
   "outputs": [],
   "source": [
    "# change the rate of audio\n",
    "engine.setProperty('rate',100)\n",
    "engine.say(\"Hello Everyone, Hope you are doing good today. Thank You!\")\n",
    "engine.runAndWait()"
   ]
  },
  {
   "cell_type": "code",
   "execution_count": 13,
   "id": "6c5afb1c",
   "metadata": {},
   "outputs": [
    {
     "data": {
      "text/plain": [
       "[<pyttsx3.voice.Voice at 0x10e98ba90>,\n",
       " <pyttsx3.voice.Voice at 0x10e98bb20>,\n",
       " <pyttsx3.voice.Voice at 0x10e98bbe0>,\n",
       " <pyttsx3.voice.Voice at 0x10e98bca0>,\n",
       " <pyttsx3.voice.Voice at 0x10e98bdc0>,\n",
       " <pyttsx3.voice.Voice at 0x10e98beb0>,\n",
       " <pyttsx3.voice.Voice at 0x10e98bf70>,\n",
       " <pyttsx3.voice.Voice at 0x10e996070>,\n",
       " <pyttsx3.voice.Voice at 0x10e996130>,\n",
       " <pyttsx3.voice.Voice at 0x10e9961f0>,\n",
       " <pyttsx3.voice.Voice at 0x10e9962b0>,\n",
       " <pyttsx3.voice.Voice at 0x10e9963d0>,\n",
       " <pyttsx3.voice.Voice at 0x10e996490>,\n",
       " <pyttsx3.voice.Voice at 0x10e996550>,\n",
       " <pyttsx3.voice.Voice at 0x10e996610>,\n",
       " <pyttsx3.voice.Voice at 0x10e9966d0>,\n",
       " <pyttsx3.voice.Voice at 0x10e996790>,\n",
       " <pyttsx3.voice.Voice at 0x10e996850>,\n",
       " <pyttsx3.voice.Voice at 0x10e996910>,\n",
       " <pyttsx3.voice.Voice at 0x10e9969d0>,\n",
       " <pyttsx3.voice.Voice at 0x10e996a90>,\n",
       " <pyttsx3.voice.Voice at 0x10e996b50>,\n",
       " <pyttsx3.voice.Voice at 0x10e996c10>,\n",
       " <pyttsx3.voice.Voice at 0x10e996cd0>,\n",
       " <pyttsx3.voice.Voice at 0x10e996d90>,\n",
       " <pyttsx3.voice.Voice at 0x10e996e50>,\n",
       " <pyttsx3.voice.Voice at 0x10e996f10>,\n",
       " <pyttsx3.voice.Voice at 0x10e996fd0>,\n",
       " <pyttsx3.voice.Voice at 0x10e99a0d0>,\n",
       " <pyttsx3.voice.Voice at 0x10a4c4c40>,\n",
       " <pyttsx3.voice.Voice at 0x10e99a1f0>,\n",
       " <pyttsx3.voice.Voice at 0x10e99a2b0>,\n",
       " <pyttsx3.voice.Voice at 0x10e99a370>,\n",
       " <pyttsx3.voice.Voice at 0x10e99a430>,\n",
       " <pyttsx3.voice.Voice at 0x10e99a4f0>,\n",
       " <pyttsx3.voice.Voice at 0x10e99a5b0>,\n",
       " <pyttsx3.voice.Voice at 0x10e99a670>,\n",
       " <pyttsx3.voice.Voice at 0x10e99a730>,\n",
       " <pyttsx3.voice.Voice at 0x10e99a7f0>,\n",
       " <pyttsx3.voice.Voice at 0x10e99a8b0>,\n",
       " <pyttsx3.voice.Voice at 0x10e99a9d0>,\n",
       " <pyttsx3.voice.Voice at 0x10e99aa90>,\n",
       " <pyttsx3.voice.Voice at 0x10e99ab50>,\n",
       " <pyttsx3.voice.Voice at 0x10e99ac10>,\n",
       " <pyttsx3.voice.Voice at 0x10e99acd0>,\n",
       " <pyttsx3.voice.Voice at 0x10e99ad90>,\n",
       " <pyttsx3.voice.Voice at 0x10e99ae50>]"
      ]
     },
     "execution_count": 13,
     "metadata": {},
     "output_type": "execute_result"
    }
   ],
   "source": [
    "# get all possible speakers\n",
    "speakers = engine.getProperty('voices')\n",
    "speakers"
   ]
  },
  {
   "cell_type": "code",
   "execution_count": 14,
   "id": "746ae32c",
   "metadata": {},
   "outputs": [],
   "source": [
    "#change the speaker\n",
    "engine.setProperty('voice',speakers[1].id)\n",
    "engine.say(\"Hello Everyone, Hope you are doing good today. Thank You!\")\n",
    "engine.runAndWait()"
   ]
  },
  {
   "cell_type": "code",
   "execution_count": null,
   "id": "a08db221",
   "metadata": {},
   "outputs": [],
   "source": []
  }
 ],
 "metadata": {
  "kernelspec": {
   "display_name": "Python 3",
   "language": "python",
   "name": "python3"
  },
  "language_info": {
   "codemirror_mode": {
    "name": "ipython",
    "version": 3
   },
   "file_extension": ".py",
   "mimetype": "text/x-python",
   "name": "python",
   "nbconvert_exporter": "python",
   "pygments_lexer": "ipython3",
   "version": "3.8.8"
  }
 },
 "nbformat": 4,
 "nbformat_minor": 5
}
