{
 "cells": [
  {
   "cell_type": "markdown",
   "id": "a1743b74",
   "metadata": {},
   "source": [
    "## Working with Pandas\n",
    "    1. Pandas Series - 1D data\n",
    "    2. Pandas Dataframe - 2D data\n",
    "    \n",
    "    - Data import/ export\n",
    "    - Data cleaning\n",
    "    - Data manipulation, data aggregation, statistical analysis"
   ]
  },
  {
   "cell_type": "code",
   "execution_count": 1,
   "id": "b03c0462",
   "metadata": {},
   "outputs": [],
   "source": [
    "import pandas as pd"
   ]
  },
  {
   "cell_type": "code",
   "execution_count": 20,
   "id": "a96e2071",
   "metadata": {},
   "outputs": [
    {
     "data": {
      "text/plain": [
       "(20, 5)"
      ]
     },
     "execution_count": 20,
     "metadata": {},
     "output_type": "execute_result"
    }
   ],
   "source": [
    "# importing data with pandas\n",
    "df = pd.read_csv(\"resources/datasets-1/datawh.csv\")\n",
    "df.shape"
   ]
  },
  {
   "cell_type": "code",
   "execution_count": 6,
   "id": "a6236c2c",
   "metadata": {},
   "outputs": [],
   "source": [
    "df.to_json(\"datawh.json\")"
   ]
  },
  {
   "cell_type": "code",
   "execution_count": 7,
   "id": "8adee32a",
   "metadata": {},
   "outputs": [
    {
     "data": {
      "text/html": [
       "<div>\n",
       "<style scoped>\n",
       "    .dataframe tbody tr th:only-of-type {\n",
       "        vertical-align: middle;\n",
       "    }\n",
       "\n",
       "    .dataframe tbody tr th {\n",
       "        vertical-align: top;\n",
       "    }\n",
       "\n",
       "    .dataframe thead th {\n",
       "        text-align: right;\n",
       "    }\n",
       "</style>\n",
       "<table border=\"1\" class=\"dataframe\">\n",
       "  <thead>\n",
       "    <tr style=\"text-align: right;\">\n",
       "      <th></th>\n",
       "      <th>Dates</th>\n",
       "      <th>Temperature</th>\n",
       "      <th>Humidity</th>\n",
       "      <th>Pressure</th>\n",
       "      <th>Air Quality</th>\n",
       "    </tr>\n",
       "  </thead>\n",
       "  <tbody>\n",
       "    <tr>\n",
       "      <th>0</th>\n",
       "      <td>30-04-2018</td>\n",
       "      <td>218</td>\n",
       "      <td>182</td>\n",
       "      <td>4</td>\n",
       "      <td>2</td>\n",
       "    </tr>\n",
       "    <tr>\n",
       "      <th>1</th>\n",
       "      <td>01-05-2018</td>\n",
       "      <td>2592</td>\n",
       "      <td>182</td>\n",
       "      <td>3</td>\n",
       "      <td>2</td>\n",
       "    </tr>\n",
       "    <tr>\n",
       "      <th>2</th>\n",
       "      <td>02-05-2018</td>\n",
       "      <td>509</td>\n",
       "      <td>439</td>\n",
       "      <td>4</td>\n",
       "      <td>0</td>\n",
       "    </tr>\n",
       "    <tr>\n",
       "      <th>3</th>\n",
       "      <td>03-05-2018</td>\n",
       "      <td>2439</td>\n",
       "      <td>53</td>\n",
       "      <td>5</td>\n",
       "      <td>1</td>\n",
       "    </tr>\n",
       "    <tr>\n",
       "      <th>4</th>\n",
       "      <td>04-05-2018</td>\n",
       "      <td>824</td>\n",
       "      <td>444</td>\n",
       "      <td>5</td>\n",
       "      <td>0</td>\n",
       "    </tr>\n",
       "  </tbody>\n",
       "</table>\n",
       "</div>"
      ],
      "text/plain": [
       "        Dates  Temperature  Humidity  Pressure  Air Quality\n",
       "0  30-04-2018          218       182         4            2\n",
       "1  01-05-2018         2592       182         3            2\n",
       "2  02-05-2018          509       439         4            0\n",
       "3  03-05-2018         2439        53         5            1\n",
       "4  04-05-2018          824       444         5            0"
      ]
     },
     "execution_count": 7,
     "metadata": {},
     "output_type": "execute_result"
    }
   ],
   "source": [
    "df.head()"
   ]
  },
  {
   "cell_type": "markdown",
   "id": "2620f746",
   "metadata": {},
   "source": [
    "## Statistical analysis"
   ]
  },
  {
   "cell_type": "code",
   "execution_count": 8,
   "id": "6c1c907b",
   "metadata": {},
   "outputs": [
    {
     "data": {
      "text/html": [
       "<div>\n",
       "<style scoped>\n",
       "    .dataframe tbody tr th:only-of-type {\n",
       "        vertical-align: middle;\n",
       "    }\n",
       "\n",
       "    .dataframe tbody tr th {\n",
       "        vertical-align: top;\n",
       "    }\n",
       "\n",
       "    .dataframe thead th {\n",
       "        text-align: right;\n",
       "    }\n",
       "</style>\n",
       "<table border=\"1\" class=\"dataframe\">\n",
       "  <thead>\n",
       "    <tr style=\"text-align: right;\">\n",
       "      <th></th>\n",
       "      <th>Temperature</th>\n",
       "      <th>Humidity</th>\n",
       "      <th>Pressure</th>\n",
       "      <th>Air Quality</th>\n",
       "    </tr>\n",
       "  </thead>\n",
       "  <tbody>\n",
       "    <tr>\n",
       "      <th>count</th>\n",
       "      <td>20.000000</td>\n",
       "      <td>20.000000</td>\n",
       "      <td>20.000000</td>\n",
       "      <td>20.000000</td>\n",
       "    </tr>\n",
       "    <tr>\n",
       "      <th>mean</th>\n",
       "      <td>1461.200000</td>\n",
       "      <td>328.050000</td>\n",
       "      <td>2.950000</td>\n",
       "      <td>1.150000</td>\n",
       "    </tr>\n",
       "    <tr>\n",
       "      <th>std</th>\n",
       "      <td>834.100688</td>\n",
       "      <td>148.623323</td>\n",
       "      <td>1.820208</td>\n",
       "      <td>0.812728</td>\n",
       "    </tr>\n",
       "    <tr>\n",
       "      <th>min</th>\n",
       "      <td>109.000000</td>\n",
       "      <td>53.000000</td>\n",
       "      <td>0.000000</td>\n",
       "      <td>0.000000</td>\n",
       "    </tr>\n",
       "    <tr>\n",
       "      <th>25%</th>\n",
       "      <td>787.500000</td>\n",
       "      <td>186.500000</td>\n",
       "      <td>1.000000</td>\n",
       "      <td>0.750000</td>\n",
       "    </tr>\n",
       "    <tr>\n",
       "      <th>50%</th>\n",
       "      <td>1390.000000</td>\n",
       "      <td>342.500000</td>\n",
       "      <td>3.000000</td>\n",
       "      <td>1.000000</td>\n",
       "    </tr>\n",
       "    <tr>\n",
       "      <th>75%</th>\n",
       "      <td>2176.000000</td>\n",
       "      <td>440.000000</td>\n",
       "      <td>4.250000</td>\n",
       "      <td>2.000000</td>\n",
       "    </tr>\n",
       "    <tr>\n",
       "      <th>max</th>\n",
       "      <td>2945.000000</td>\n",
       "      <td>535.000000</td>\n",
       "      <td>5.000000</td>\n",
       "      <td>2.000000</td>\n",
       "    </tr>\n",
       "  </tbody>\n",
       "</table>\n",
       "</div>"
      ],
      "text/plain": [
       "       Temperature    Humidity   Pressure  Air Quality\n",
       "count    20.000000   20.000000  20.000000    20.000000\n",
       "mean   1461.200000  328.050000   2.950000     1.150000\n",
       "std     834.100688  148.623323   1.820208     0.812728\n",
       "min     109.000000   53.000000   0.000000     0.000000\n",
       "25%     787.500000  186.500000   1.000000     0.750000\n",
       "50%    1390.000000  342.500000   3.000000     1.000000\n",
       "75%    2176.000000  440.000000   4.250000     2.000000\n",
       "max    2945.000000  535.000000   5.000000     2.000000"
      ]
     },
     "execution_count": 8,
     "metadata": {},
     "output_type": "execute_result"
    }
   ],
   "source": [
    "df.describe()"
   ]
  },
  {
   "cell_type": "code",
   "execution_count": 9,
   "id": "794cfbf3",
   "metadata": {},
   "outputs": [
    {
     "data": {
      "text/plain": [
       "Temperature    1461.20\n",
       "Humidity        328.05\n",
       "Pressure          2.95\n",
       "Air Quality       1.15\n",
       "dtype: float64"
      ]
     },
     "execution_count": 9,
     "metadata": {},
     "output_type": "execute_result"
    }
   ],
   "source": [
    "df.mean()"
   ]
  },
  {
   "cell_type": "code",
   "execution_count": 10,
   "id": "24e5cd30",
   "metadata": {},
   "outputs": [
    {
     "data": {
      "text/plain": [
       "(1461.2, 1390.0, 695723.9578947368, 109)"
      ]
     },
     "execution_count": 10,
     "metadata": {},
     "output_type": "execute_result"
    }
   ],
   "source": [
    "df.Temperature.mean(), df.Temperature.median(), df.Temperature.var(), df.Temperature.min()"
   ]
  },
  {
   "cell_type": "code",
   "execution_count": 11,
   "id": "3c7b0c59",
   "metadata": {},
   "outputs": [
    {
     "data": {
      "text/plain": [
       "(2945, 834.1006881035028, 0.11175266975855103, -1.0525996865252307)"
      ]
     },
     "execution_count": 11,
     "metadata": {},
     "output_type": "execute_result"
    }
   ],
   "source": [
    "df.Temperature.max(), df.Temperature.std(), df.Temperature.skew(), df.Temperature.kurt()"
   ]
  },
  {
   "cell_type": "markdown",
   "id": "cf9cdca2",
   "metadata": {},
   "source": [
    "## Data cleaning\n",
    "- Handle duplicated rows/entries\n",
    "    - check duplicity with context to key/identifier - drop duplicated entry, keep the latest one\n",
    "\n",
    "- Handle missing values\n",
    "    - the data is missing because it does not exist\n",
    "        - we do not impute missing value,\n",
    "        - Convert the column in binary / categorical variable\n",
    "\n",
    "    - the data exists but is missing for some system/human error\n",
    "        - if any column has more than 80% of values missing, drop that column\n",
    "        - if any rows has more than 60% of values missing, drop that row\n",
    "        - if the column has missing values less than 5%-20%, go for statistical imputations - mean/median/mode\n",
    "        - else - go for ML based imputation\n",
    "- Handle unwanted columns\n",
    "- Handle outliers and unnatural values\n",
    "    - if the % of outliers is less than 1% of data volume - you can consider dropping those rows\n",
    "    - otherwise - capping - replacing outliers by nearest inliers.\n"
   ]
  },
  {
   "cell_type": "code",
   "execution_count": 12,
   "id": "b23ece16",
   "metadata": {},
   "outputs": [
    {
     "data": {
      "text/plain": [
       "(23, 7)"
      ]
     },
     "execution_count": 12,
     "metadata": {},
     "output_type": "execute_result"
    }
   ],
   "source": [
    "df = pd.read_csv(\"resources/datasets-1/datawh_missing.csv\")\n",
    "df.shape"
   ]
  },
  {
   "cell_type": "code",
   "execution_count": 13,
   "id": "4e7c5a99",
   "metadata": {},
   "outputs": [
    {
     "data": {
      "text/html": [
       "<div>\n",
       "<style scoped>\n",
       "    .dataframe tbody tr th:only-of-type {\n",
       "        vertical-align: middle;\n",
       "    }\n",
       "\n",
       "    .dataframe tbody tr th {\n",
       "        vertical-align: top;\n",
       "    }\n",
       "\n",
       "    .dataframe thead th {\n",
       "        text-align: right;\n",
       "    }\n",
       "</style>\n",
       "<table border=\"1\" class=\"dataframe\">\n",
       "  <thead>\n",
       "    <tr style=\"text-align: right;\">\n",
       "      <th></th>\n",
       "      <th>Dates</th>\n",
       "      <th>Temperature</th>\n",
       "      <th>Humidity</th>\n",
       "      <th>Pressure</th>\n",
       "      <th>Air Quality</th>\n",
       "      <th>Day id</th>\n",
       "      <th>Vibration</th>\n",
       "    </tr>\n",
       "  </thead>\n",
       "  <tbody>\n",
       "    <tr>\n",
       "      <th>0</th>\n",
       "      <td>30-04-2018</td>\n",
       "      <td>218</td>\n",
       "      <td>182</td>\n",
       "      <td>4</td>\n",
       "      <td>2</td>\n",
       "      <td>1</td>\n",
       "      <td>45</td>\n",
       "    </tr>\n",
       "    <tr>\n",
       "      <th>1</th>\n",
       "      <td>01-05-2018</td>\n",
       "      <td>?</td>\n",
       "      <td>182</td>\n",
       "      <td>3</td>\n",
       "      <td>2</td>\n",
       "      <td>2</td>\n",
       "      <td>56</td>\n",
       "    </tr>\n",
       "    <tr>\n",
       "      <th>2</th>\n",
       "      <td>02-05-2018</td>\n",
       "      <td>.</td>\n",
       "      <td>439</td>\n",
       "      <td>NaN</td>\n",
       "      <td>0</td>\n",
       "      <td>3</td>\n",
       "      <td>45</td>\n",
       "    </tr>\n",
       "    <tr>\n",
       "      <th>3</th>\n",
       "      <td>03-05-2018</td>\n",
       "      <td>2439</td>\n",
       "      <td>53</td>\n",
       "      <td>5</td>\n",
       "      <td>1</td>\n",
       "      <td>4</td>\n",
       "      <td>23</td>\n",
       "    </tr>\n",
       "    <tr>\n",
       "      <th>4</th>\n",
       "      <td>04-05-2018</td>\n",
       "      <td>824</td>\n",
       "      <td>444</td>\n",
       "      <td>5</td>\n",
       "      <td>NaN</td>\n",
       "      <td>5</td>\n",
       "      <td>35</td>\n",
       "    </tr>\n",
       "  </tbody>\n",
       "</table>\n",
       "</div>"
      ],
      "text/plain": [
       "        Dates Temperature Humidity Pressure Air Quality  Day id  Vibration\n",
       "0  30-04-2018         218      182        4           2       1         45\n",
       "1  01-05-2018           ?      182        3           2       2         56\n",
       "2  02-05-2018           .      439      NaN           0       3         45\n",
       "3  03-05-2018        2439       53        5           1       4         23\n",
       "4  04-05-2018         824      444        5         NaN       5         35"
      ]
     },
     "execution_count": 13,
     "metadata": {},
     "output_type": "execute_result"
    }
   ],
   "source": [
    "df.head()"
   ]
  },
  {
   "cell_type": "markdown",
   "id": "539c3d2f",
   "metadata": {},
   "source": [
    "## Duplicate entries"
   ]
  },
  {
   "cell_type": "code",
   "execution_count": 14,
   "id": "09f577dc",
   "metadata": {},
   "outputs": [
    {
     "data": {
      "text/plain": [
       "2"
      ]
     },
     "execution_count": 14,
     "metadata": {},
     "output_type": "execute_result"
    }
   ],
   "source": [
    "# check for duplicated rows\n",
    "df.duplicated().sum()"
   ]
  },
  {
   "cell_type": "code",
   "execution_count": 15,
   "id": "ef21268d",
   "metadata": {},
   "outputs": [
    {
     "data": {
      "text/html": [
       "<div>\n",
       "<style scoped>\n",
       "    .dataframe tbody tr th:only-of-type {\n",
       "        vertical-align: middle;\n",
       "    }\n",
       "\n",
       "    .dataframe tbody tr th {\n",
       "        vertical-align: top;\n",
       "    }\n",
       "\n",
       "    .dataframe thead th {\n",
       "        text-align: right;\n",
       "    }\n",
       "</style>\n",
       "<table border=\"1\" class=\"dataframe\">\n",
       "  <thead>\n",
       "    <tr style=\"text-align: right;\">\n",
       "      <th></th>\n",
       "      <th>Dates</th>\n",
       "      <th>Temperature</th>\n",
       "      <th>Humidity</th>\n",
       "      <th>Pressure</th>\n",
       "      <th>Air Quality</th>\n",
       "      <th>Day id</th>\n",
       "      <th>Vibration</th>\n",
       "    </tr>\n",
       "  </thead>\n",
       "  <tbody>\n",
       "    <tr>\n",
       "      <th>19</th>\n",
       "      <td>19-05-2018</td>\n",
       "      <td>766</td>\n",
       "      <td>535</td>\n",
       "      <td>3</td>\n",
       "      <td>2</td>\n",
       "      <td>20</td>\n",
       "      <td>39</td>\n",
       "    </tr>\n",
       "    <tr>\n",
       "      <th>20</th>\n",
       "      <td>19-05-2018</td>\n",
       "      <td>766</td>\n",
       "      <td>535</td>\n",
       "      <td>3</td>\n",
       "      <td>2</td>\n",
       "      <td>20</td>\n",
       "      <td>39</td>\n",
       "    </tr>\n",
       "    <tr>\n",
       "      <th>21</th>\n",
       "      <td>19-05-2018</td>\n",
       "      <td>766</td>\n",
       "      <td>535</td>\n",
       "      <td>3</td>\n",
       "      <td>2</td>\n",
       "      <td>20</td>\n",
       "      <td>39</td>\n",
       "    </tr>\n",
       "  </tbody>\n",
       "</table>\n",
       "</div>"
      ],
      "text/plain": [
       "         Dates Temperature Humidity Pressure Air Quality  Day id  Vibration\n",
       "19  19-05-2018         766      535        3           2      20         39\n",
       "20  19-05-2018         766      535        3           2      20         39\n",
       "21  19-05-2018         766      535        3           2      20         39"
      ]
     },
     "execution_count": 15,
     "metadata": {},
     "output_type": "execute_result"
    }
   ],
   "source": [
    "# to check which rows are duplicates\n",
    "df[df.duplicated(keep=False)]"
   ]
  },
  {
   "cell_type": "code",
   "execution_count": 16,
   "id": "ff93756f",
   "metadata": {},
   "outputs": [],
   "source": [
    "# drop the duplicates keeping the last entry\n",
    "df.drop_duplicates(keep='last', inplace=True)"
   ]
  },
  {
   "cell_type": "code",
   "execution_count": 17,
   "id": "b8bca82c",
   "metadata": {},
   "outputs": [
    {
     "data": {
      "text/plain": [
       "0"
      ]
     },
     "execution_count": 17,
     "metadata": {},
     "output_type": "execute_result"
    }
   ],
   "source": [
    "# check for duplicated rows\n",
    "df.duplicated().sum()"
   ]
  },
  {
   "cell_type": "markdown",
   "id": "5884d652",
   "metadata": {},
   "source": [
    "## Handling missing data"
   ]
  },
  {
   "cell_type": "code",
   "execution_count": 19,
   "id": "eb777017",
   "metadata": {},
   "outputs": [
    {
     "data": {
      "text/plain": [
       "Dates          0\n",
       "Temperature    0\n",
       "Humidity       0\n",
       "Pressure       2\n",
       "Air Quality    1\n",
       "Day id         0\n",
       "Vibration      0\n",
       "dtype: int64"
      ]
     },
     "execution_count": 19,
     "metadata": {},
     "output_type": "execute_result"
    }
   ],
   "source": [
    "# check for missing data\n",
    "df.isnull().sum()"
   ]
  },
  {
   "cell_type": "code",
   "execution_count": null,
   "id": "d4615c76",
   "metadata": {},
   "outputs": [],
   "source": [
    "# drop the rows where more than 60% of values are missing, 7*0.6 = 4,\n",
    "# we want to drop rows having less than or equal to 3 real values\n",
    "print(df.shape)\n",
    "df.dropna(thresh=4,inplace=True)\n",
    "print(df.shape)"
   ]
  },
  {
   "cell_type": "code",
   "execution_count": null,
   "id": "f447e68b",
   "metadata": {},
   "outputs": [],
   "source": [
    "df"
   ]
  },
  {
   "cell_type": "code",
   "execution_count": null,
   "id": "27c8272e",
   "metadata": {},
   "outputs": [],
   "source": [
    "df.skew()"
   ]
  },
  {
   "cell_type": "code",
   "execution_count": null,
   "id": "dba3c46d",
   "metadata": {},
   "outputs": [],
   "source": [
    "df.Temperature.fillna(df.Temperature.mean(),inplace=True)\n",
    "df.fillna(df.median(),inplace=True)"
   ]
  },
  {
   "cell_type": "code",
   "execution_count": 21,
   "id": "6e2a9ada",
   "metadata": {},
   "outputs": [
    {
     "data": {
      "text/plain": [
       "Dates          0\n",
       "Temperature    0\n",
       "Humidity       0\n",
       "Pressure       0\n",
       "Air Quality    0\n",
       "dtype: int64"
      ]
     },
     "execution_count": 21,
     "metadata": {},
     "output_type": "execute_result"
    }
   ],
   "source": [
    "# check for missing data\n",
    "df.isnull().sum()"
   ]
  },
  {
   "cell_type": "markdown",
   "id": "14766322",
   "metadata": {},
   "source": [
    "### Handling unwanted column"
   ]
  },
  {
   "cell_type": "code",
   "execution_count": 23,
   "id": "51fa20b4",
   "metadata": {},
   "outputs": [
    {
     "data": {
      "text/html": [
       "<div>\n",
       "<style scoped>\n",
       "    .dataframe tbody tr th:only-of-type {\n",
       "        vertical-align: middle;\n",
       "    }\n",
       "\n",
       "    .dataframe tbody tr th {\n",
       "        vertical-align: top;\n",
       "    }\n",
       "\n",
       "    .dataframe thead th {\n",
       "        text-align: right;\n",
       "    }\n",
       "</style>\n",
       "<table border=\"1\" class=\"dataframe\">\n",
       "  <thead>\n",
       "    <tr style=\"text-align: right;\">\n",
       "      <th></th>\n",
       "      <th>Dates</th>\n",
       "      <th>Temperature</th>\n",
       "      <th>Humidity</th>\n",
       "      <th>Pressure</th>\n",
       "      <th>Air Quality</th>\n",
       "    </tr>\n",
       "  </thead>\n",
       "  <tbody>\n",
       "    <tr>\n",
       "      <th>0</th>\n",
       "      <td>30-04-2018</td>\n",
       "      <td>218</td>\n",
       "      <td>182</td>\n",
       "      <td>4</td>\n",
       "      <td>2</td>\n",
       "    </tr>\n",
       "    <tr>\n",
       "      <th>1</th>\n",
       "      <td>01-05-2018</td>\n",
       "      <td>2592</td>\n",
       "      <td>182</td>\n",
       "      <td>3</td>\n",
       "      <td>2</td>\n",
       "    </tr>\n",
       "    <tr>\n",
       "      <th>2</th>\n",
       "      <td>02-05-2018</td>\n",
       "      <td>509</td>\n",
       "      <td>439</td>\n",
       "      <td>4</td>\n",
       "      <td>0</td>\n",
       "    </tr>\n",
       "    <tr>\n",
       "      <th>3</th>\n",
       "      <td>03-05-2018</td>\n",
       "      <td>2439</td>\n",
       "      <td>53</td>\n",
       "      <td>5</td>\n",
       "      <td>1</td>\n",
       "    </tr>\n",
       "    <tr>\n",
       "      <th>4</th>\n",
       "      <td>04-05-2018</td>\n",
       "      <td>824</td>\n",
       "      <td>444</td>\n",
       "      <td>5</td>\n",
       "      <td>0</td>\n",
       "    </tr>\n",
       "  </tbody>\n",
       "</table>\n",
       "</div>"
      ],
      "text/plain": [
       "        Dates  Temperature  Humidity  Pressure  Air Quality\n",
       "0  30-04-2018          218       182         4            2\n",
       "1  01-05-2018         2592       182         3            2\n",
       "2  02-05-2018          509       439         4            0\n",
       "3  03-05-2018         2439        53         5            1\n",
       "4  04-05-2018          824       444         5            0"
      ]
     },
     "execution_count": 23,
     "metadata": {},
     "output_type": "execute_result"
    }
   ],
   "source": [
    "df.head()"
   ]
  },
  {
   "cell_type": "code",
   "execution_count": null,
   "id": "42469792",
   "metadata": {},
   "outputs": [],
   "source": [
    "df.drop(columns=['Day id'], inplace=True)\n",
    "df.head()"
   ]
  },
  {
   "cell_type": "markdown",
   "id": "16765763",
   "metadata": {},
   "source": [
    "## Handling outliers and unnatural values\n",
    "- boxplot approach\n",
    "- z score approach\n",
    "- skewness approach\n",
    "    - if skewness > +1 or skewness < -1 == extreme outliers are present"
   ]
  },
  {
   "cell_type": "code",
   "execution_count": null,
   "id": "dc95f44e",
   "metadata": {},
   "outputs": [],
   "source": [
    "df.skew()"
   ]
  },
  {
   "cell_type": "code",
   "execution_count": null,
   "id": "9c244d27",
   "metadata": {},
   "outputs": [],
   "source": [
    "df.Vibration.max()"
   ]
  },
  {
   "cell_type": "code",
   "execution_count": 22,
   "id": "a183d726",
   "metadata": {},
   "outputs": [
    {
     "ename": "AttributeError",
     "evalue": "'DataFrame' object has no attribute 'Vibration'",
     "output_type": "error",
     "traceback": [
      "\u001b[0;31m---------------------------------------------------------------------------\u001b[0m",
      "\u001b[0;31mAttributeError\u001b[0m                            Traceback (most recent call last)",
      "\u001b[0;32m<ipython-input-22-ea35afd0ceb2>\u001b[0m in \u001b[0;36m<module>\u001b[0;34m\u001b[0m\n\u001b[0;32m----> 1\u001b[0;31m \u001b[0mdf\u001b[0m\u001b[0;34m.\u001b[0m\u001b[0mVibration\u001b[0m\u001b[0;34m.\u001b[0m\u001b[0mquantile\u001b[0m\u001b[0;34m(\u001b[0m\u001b[0;36m0.99\u001b[0m\u001b[0;34m)\u001b[0m\u001b[0;34m\u001b[0m\u001b[0;34m\u001b[0m\u001b[0m\n\u001b[0m",
      "\u001b[0;32m/opt/anaconda3/lib/python3.8/site-packages/pandas/core/generic.py\u001b[0m in \u001b[0;36m__getattr__\u001b[0;34m(self, name)\u001b[0m\n\u001b[1;32m   5463\u001b[0m             \u001b[0;32mif\u001b[0m \u001b[0mself\u001b[0m\u001b[0;34m.\u001b[0m\u001b[0m_info_axis\u001b[0m\u001b[0;34m.\u001b[0m\u001b[0m_can_hold_identifiers_and_holds_name\u001b[0m\u001b[0;34m(\u001b[0m\u001b[0mname\u001b[0m\u001b[0;34m)\u001b[0m\u001b[0;34m:\u001b[0m\u001b[0;34m\u001b[0m\u001b[0;34m\u001b[0m\u001b[0m\n\u001b[1;32m   5464\u001b[0m                 \u001b[0;32mreturn\u001b[0m \u001b[0mself\u001b[0m\u001b[0;34m[\u001b[0m\u001b[0mname\u001b[0m\u001b[0;34m]\u001b[0m\u001b[0;34m\u001b[0m\u001b[0;34m\u001b[0m\u001b[0m\n\u001b[0;32m-> 5465\u001b[0;31m             \u001b[0;32mreturn\u001b[0m \u001b[0mobject\u001b[0m\u001b[0;34m.\u001b[0m\u001b[0m__getattribute__\u001b[0m\u001b[0;34m(\u001b[0m\u001b[0mself\u001b[0m\u001b[0;34m,\u001b[0m \u001b[0mname\u001b[0m\u001b[0;34m)\u001b[0m\u001b[0;34m\u001b[0m\u001b[0;34m\u001b[0m\u001b[0m\n\u001b[0m\u001b[1;32m   5466\u001b[0m \u001b[0;34m\u001b[0m\u001b[0m\n\u001b[1;32m   5467\u001b[0m     \u001b[0;32mdef\u001b[0m \u001b[0m__setattr__\u001b[0m\u001b[0;34m(\u001b[0m\u001b[0mself\u001b[0m\u001b[0;34m,\u001b[0m \u001b[0mname\u001b[0m\u001b[0;34m:\u001b[0m \u001b[0mstr\u001b[0m\u001b[0;34m,\u001b[0m \u001b[0mvalue\u001b[0m\u001b[0;34m)\u001b[0m \u001b[0;34m->\u001b[0m \u001b[0;32mNone\u001b[0m\u001b[0;34m:\u001b[0m\u001b[0;34m\u001b[0m\u001b[0;34m\u001b[0m\u001b[0m\n",
      "\u001b[0;31mAttributeError\u001b[0m: 'DataFrame' object has no attribute 'Vibration'"
     ]
    }
   ],
   "source": [
    "df.Vibration.quantile(0.99)"
   ]
  },
  {
   "cell_type": "code",
   "execution_count": null,
   "id": "d7343067",
   "metadata": {},
   "outputs": [],
   "source": [
    "# check how many values are above 0.99 \n",
    "(df.Vibration > df.Vibration.quantile(0.99)).sum()"
   ]
  },
  {
   "cell_type": "code",
   "execution_count": null,
   "id": "e553ce99",
   "metadata": {},
   "outputs": [],
   "source": [
    "#dropping the rows where vibration values are higher than 99% of the column\n",
    "df = df[df.Vibration < df.Vibration.quantile(0.99)]\n",
    "df.skew()"
   ]
  },
  {
   "cell_type": "code",
   "execution_count": null,
   "id": "ce68a74c",
   "metadata": {},
   "outputs": [],
   "source": [
    "# check how many values are above 99%\n",
    "(df.Pressure < df.Pressure.quantile(0.01)).sum()"
   ]
  },
  {
   "cell_type": "code",
   "execution_count": null,
   "id": "4fd9745b",
   "metadata": {},
   "outputs": [],
   "source": [
    "df.Pressure[df.Pressure < df.Pressure.quantile(0.01)] = df.Pressure.quantile(0.02)\n",
    "df.skew()"
   ]
  },
  {
   "cell_type": "code",
   "execution_count": null,
   "id": "f629200b",
   "metadata": {},
   "outputs": [],
   "source": []
  }
 ],
 "metadata": {
  "kernelspec": {
   "display_name": "Python 3",
   "language": "python",
   "name": "python3"
  },
  "language_info": {
   "codemirror_mode": {
    "name": "ipython",
    "version": 3
   },
   "file_extension": ".py",
   "mimetype": "text/x-python",
   "name": "python",
   "nbconvert_exporter": "python",
   "pygments_lexer": "ipython3",
   "version": "3.8.8"
  }
 },
 "nbformat": 4,
 "nbformat_minor": 5
}
