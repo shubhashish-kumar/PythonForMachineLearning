{
 "cells": [
  {
   "cell_type": "code",
   "execution_count": 34,
   "id": "813e209e",
   "metadata": {},
   "outputs": [],
   "source": [
    "import numpy as np"
   ]
  },
  {
   "cell_type": "markdown",
   "id": "d0f19eb5",
   "metadata": {},
   "source": [
    "## Numpy\n",
    "    - numpy nd array\n",
    "    - numpy matrix"
   ]
  },
  {
   "cell_type": "code",
   "execution_count": 35,
   "id": "386ba360",
   "metadata": {},
   "outputs": [
    {
     "name": "stdout",
     "output_type": "stream",
     "text": [
      "[4, 2, 3, 7, 5, 1]\n"
     ]
    }
   ],
   "source": [
    "x = [4, 2, 3]\n",
    "y = [7, 5, 1]\n",
    "print(x+y)"
   ]
  },
  {
   "cell_type": "code",
   "execution_count": 36,
   "id": "34e89b75",
   "metadata": {},
   "outputs": [
    {
     "name": "stdout",
     "output_type": "stream",
     "text": [
      "[11  7  4]\n"
     ]
    }
   ],
   "source": [
    "x = np.array([4, 2, 3])\n",
    "y = np.array([7, 5, 1])\n",
    "print(x+y)"
   ]
  },
  {
   "cell_type": "code",
   "execution_count": null,
   "id": "9f99a9a4",
   "metadata": {},
   "outputs": [],
   "source": [
    "x = np.array([[7,5,2],[6,2,1],[9,6,3]])\n",
    "x"
   ]
  },
  {
   "cell_type": "code",
   "execution_count": 28,
   "id": "4d1e3f58",
   "metadata": {},
   "outputs": [
    {
     "name": "stdout",
     "output_type": "stream",
     "text": [
      "(3, 3)\n",
      "2\n",
      "9\n"
     ]
    }
   ],
   "source": [
    "print(x.shape)\n",
    "print(x.ndim)\n",
    "print(x.size)"
   ]
  },
  {
   "cell_type": "code",
   "execution_count": 29,
   "id": "e8d435b5",
   "metadata": {},
   "outputs": [
    {
     "name": "stdout",
     "output_type": "stream",
     "text": [
      "First column :  [7 6 9]\n",
      "Last row :  [9 6 3]\n"
     ]
    }
   ],
   "source": [
    "print(\"First column : \", x[:,0] )\n",
    "print(\"Last row : \", x[2, :])"
   ]
  },
  {
   "cell_type": "markdown",
   "id": "eace3208",
   "metadata": {},
   "source": [
    "# Generating arrays and random numbers with numpy"
   ]
  },
  {
   "cell_type": "code",
   "execution_count": null,
   "id": "003c1d2d",
   "metadata": {},
   "outputs": [],
   "source": [
    "import numpy as np\n",
    "x = np.arange(4,23,2)\n",
    "x"
   ]
  },
  {
   "cell_type": "code",
   "execution_count": 6,
   "id": "92fa6a9e",
   "metadata": {},
   "outputs": [
    {
     "data": {
      "text/plain": [
       "array([ 2. ,  4.3,  6.6,  8.9, 11.2, 13.5, 15.8, 18.1, 20.4, 22.7, 25. ])"
      ]
     },
     "execution_count": 6,
     "metadata": {},
     "output_type": "execute_result"
    }
   ],
   "source": [
    "x = np.linspace(2, 25, 11)\n",
    "x"
   ]
  },
  {
   "cell_type": "code",
   "execution_count": 9,
   "id": "a8b2515c",
   "metadata": {},
   "outputs": [
    {
     "data": {
      "text/plain": [
       "array([[1., 1., 1.],\n",
       "       [1., 1., 1.]])"
      ]
     },
     "execution_count": 9,
     "metadata": {},
     "output_type": "execute_result"
    }
   ],
   "source": [
    "x = np.ones((2,3))\n",
    "x"
   ]
  },
  {
   "cell_type": "code",
   "execution_count": 10,
   "id": "9cc65992",
   "metadata": {},
   "outputs": [
    {
     "data": {
      "text/plain": [
       "array([[0., 0., 0., 0.],\n",
       "       [0., 0., 0., 0.]])"
      ]
     },
     "execution_count": 10,
     "metadata": {},
     "output_type": "execute_result"
    }
   ],
   "source": [
    "x = np.zeros((2,4))\n",
    "x"
   ]
  },
  {
   "cell_type": "code",
   "execution_count": 11,
   "id": "21a83ed9",
   "metadata": {},
   "outputs": [
    {
     "data": {
      "text/plain": [
       "array([[0.13592874, 0.97013976, 0.91011705, 0.02955557, 0.22970245],\n",
       "       [0.78720142, 0.22550063, 0.44862159, 0.98449469, 0.15362691]])"
      ]
     },
     "execution_count": 11,
     "metadata": {},
     "output_type": "execute_result"
    }
   ],
   "source": [
    "x = np.random.rand(2, 5) #uniformly distributed random values -- all values between 0 and 1\n",
    "x"
   ]
  },
  {
   "cell_type": "code",
   "execution_count": 12,
   "id": "03e25af5",
   "metadata": {},
   "outputs": [],
   "source": [
    "x = np.random.randn(2, 5) #normally distributed random values with mean = 0 and std = 1\n"
   ]
  },
  {
   "cell_type": "code",
   "execution_count": 31,
   "id": "b2ebe483",
   "metadata": {},
   "outputs": [
    {
     "data": {
      "text/plain": [
       "array([14, 28, 11,  6, 19])"
      ]
     },
     "execution_count": 31,
     "metadata": {},
     "output_type": "execute_result"
    }
   ],
   "source": [
    "x = np.random.randint(4, 30, 5)\n",
    "x"
   ]
  },
  {
   "cell_type": "code",
   "execution_count": 38,
   "id": "118a9acc",
   "metadata": {},
   "outputs": [
    {
     "data": {
      "text/plain": [
       "array([14, 13,  7, 24, 14])"
      ]
     },
     "execution_count": 38,
     "metadata": {},
     "output_type": "execute_result"
    }
   ],
   "source": [
    "np.random.seed(6)\n",
    "x = np.random.randint(4, 30, 5)\n",
    "x"
   ]
  },
  {
   "cell_type": "markdown",
   "id": "8559b11b",
   "metadata": {},
   "source": [
    "## Linear algebra with numpy"
   ]
  },
  {
   "cell_type": "code",
   "execution_count": 19,
   "id": "5e8de866",
   "metadata": {},
   "outputs": [
    {
     "data": {
      "text/plain": [
       "array([[7, 5, 2],\n",
       "       [6, 2, 1],\n",
       "       [9, 6, 3]])"
      ]
     },
     "execution_count": 19,
     "metadata": {},
     "output_type": "execute_result"
    }
   ],
   "source": [
    "x = np.array([[7,5,2],[6,2,1],[9,6,3]])\n",
    "x"
   ]
  },
  {
   "cell_type": "code",
   "execution_count": 21,
   "id": "c2fd3f0f",
   "metadata": {},
   "outputs": [
    {
     "data": {
      "text/plain": [
       "array([[ 0.        ,  0.33333333, -0.11111111],\n",
       "       [ 1.        , -0.33333333, -0.55555556],\n",
       "       [-2.        , -0.33333333,  1.77777778]])"
      ]
     },
     "execution_count": 21,
     "metadata": {},
     "output_type": "execute_result"
    }
   ],
   "source": [
    "np.linalg.inv(x)"
   ]
  },
  {
   "cell_type": "code",
   "execution_count": 22,
   "id": "fe362501",
   "metadata": {},
   "outputs": [
    {
     "data": {
      "text/plain": [
       "-8.999999999999998"
      ]
     },
     "execution_count": 22,
     "metadata": {},
     "output_type": "execute_result"
    }
   ],
   "source": [
    "np.linalg.det(x)"
   ]
  },
  {
   "cell_type": "code",
   "execution_count": 23,
   "id": "c02c5468",
   "metadata": {},
   "outputs": [
    {
     "data": {
      "text/plain": [
       "3"
      ]
     },
     "execution_count": 23,
     "metadata": {},
     "output_type": "execute_result"
    }
   ],
   "source": [
    "np.linalg.matrix_rank(x)"
   ]
  },
  {
   "cell_type": "markdown",
   "id": "6052f832",
   "metadata": {},
   "source": [
    "    4x + 7y = 26\n",
    "    5x - 2y = 11"
   ]
  },
  {
   "cell_type": "code",
   "execution_count": 33,
   "id": "a6bc699e",
   "metadata": {},
   "outputs": [
    {
     "data": {
      "text/plain": [
       "array([2.02325581, 2.55813953])"
      ]
     },
     "execution_count": 33,
     "metadata": {},
     "output_type": "execute_result"
    }
   ],
   "source": [
    "a = [[4,7],[5, -2]]\n",
    "b = [26, 11]\n",
    "np.linalg.solve(a,b)"
   ]
  },
  {
   "cell_type": "code",
   "execution_count": null,
   "id": "f2db2e09",
   "metadata": {},
   "outputs": [],
   "source": []
  }
 ],
 "metadata": {
  "kernelspec": {
   "display_name": "Python 3",
   "language": "python",
   "name": "python3"
  },
  "language_info": {
   "codemirror_mode": {
    "name": "ipython",
    "version": 3
   },
   "file_extension": ".py",
   "mimetype": "text/x-python",
   "name": "python",
   "nbconvert_exporter": "python",
   "pygments_lexer": "ipython3",
   "version": "3.8.8"
  }
 },
 "nbformat": 4,
 "nbformat_minor": 5
}
